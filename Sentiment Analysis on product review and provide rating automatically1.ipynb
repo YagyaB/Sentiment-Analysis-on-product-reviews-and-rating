{
 "cells": [
  {
   "cell_type": "markdown",
   "metadata": {},
   "source": [
    "# Import Libraries"
   ]
  },
  {
   "cell_type": "code",
   "execution_count": 1,
   "metadata": {},
   "outputs": [],
   "source": [
    "import nltk\n",
    "import numpy as np\n",
    "\n",
    "import pandas as pd\n",
    "from matplotlib import pyplot as plt\n",
    "%matplotlib inline\n",
    "import seaborn as sns\n",
    "import re\n",
    "#nltk.download('stopwords')\n",
    "#nltk.download('wordnet')\n"
   ]
  },
  {
   "cell_type": "code",
   "execution_count": 2,
   "metadata": {},
   "outputs": [
    {
     "data": {
      "text/html": [
       "<div>\n",
       "<style scoped>\n",
       "    .dataframe tbody tr th:only-of-type {\n",
       "        vertical-align: middle;\n",
       "    }\n",
       "\n",
       "    .dataframe tbody tr th {\n",
       "        vertical-align: top;\n",
       "    }\n",
       "\n",
       "    .dataframe thead th {\n",
       "        text-align: right;\n",
       "    }\n",
       "</style>\n",
       "<table border=\"1\" class=\"dataframe\">\n",
       "  <thead>\n",
       "    <tr style=\"text-align: right;\">\n",
       "      <th></th>\n",
       "      <th>rating</th>\n",
       "      <th>reviews</th>\n",
       "    </tr>\n",
       "  </thead>\n",
       "  <tbody>\n",
       "    <tr>\n",
       "      <th>0</th>\n",
       "      <td>5</td>\n",
       "      <td>i love this album. it's very good. more to the hip hop side than her current pop sound.. SO HYPE! i listen to this everyday at the gym! i give it 5star rating all the way. her metaphors are just c...</td>\n",
       "    </tr>\n",
       "    <tr>\n",
       "      <th>1</th>\n",
       "      <td>5</td>\n",
       "      <td>Good flavor. This review was collected as part of a promotion.</td>\n",
       "    </tr>\n",
       "    <tr>\n",
       "      <th>2</th>\n",
       "      <td>5</td>\n",
       "      <td>Good flavor.</td>\n",
       "    </tr>\n",
       "    <tr>\n",
       "      <th>3</th>\n",
       "      <td>1</td>\n",
       "      <td>I read through the reviews on here before looking in to buying one of the couples lubricants, and was ultimately disappointed that it didn't even live up to the reviews I had read. For starters, n...</td>\n",
       "    </tr>\n",
       "    <tr>\n",
       "      <th>4</th>\n",
       "      <td>1</td>\n",
       "      <td>My husband bought this gel for us. The gel caused irritation and it felt like it was burning my skin. I wouldn't recommend this gel.</td>\n",
       "    </tr>\n",
       "  </tbody>\n",
       "</table>\n",
       "</div>"
      ],
      "text/plain": [
       "   rating  \\\n",
       "0       5   \n",
       "1       5   \n",
       "2       5   \n",
       "3       1   \n",
       "4       1   \n",
       "\n",
       "                                                                                                                                                                                                   reviews  \n",
       "0  i love this album. it's very good. more to the hip hop side than her current pop sound.. SO HYPE! i listen to this everyday at the gym! i give it 5star rating all the way. her metaphors are just c...  \n",
       "1                                                                                                                                           Good flavor. This review was collected as part of a promotion.  \n",
       "2                                                                                                                                                                                             Good flavor.  \n",
       "3  I read through the reviews on here before looking in to buying one of the couples lubricants, and was ultimately disappointed that it didn't even live up to the reviews I had read. For starters, n...  \n",
       "4                                                                     My husband bought this gel for us. The gel caused irritation and it felt like it was burning my skin. I wouldn't recommend this gel.  "
      ]
     },
     "execution_count": 2,
     "metadata": {},
     "output_type": "execute_result"
    }
   ],
   "source": [
    "import pandas as pd\n",
    "pd.set_option('display.max_colwidth',200)\n",
    "df=pd.read_csv(r\"C:\\Users\\DELL\\GrammarandProductReviews.csv\",encoding='UTF-8',sep=',')\n",
    "\n",
    "df.head()"
   ]
  },
  {
   "cell_type": "code",
   "execution_count": 3,
   "metadata": {},
   "outputs": [
    {
     "data": {
      "text/plain": [
       "(71044, 2)"
      ]
     },
     "execution_count": 3,
     "metadata": {},
     "output_type": "execute_result"
    }
   ],
   "source": [
    "df.shape"
   ]
  },
  {
   "cell_type": "markdown",
   "metadata": {},
   "source": [
    "# Exploratory data analysis (EDA)"
   ]
  },
  {
   "cell_type": "markdown",
   "metadata": {},
   "source": [
    "EDA is done to analysis data and visualize data in different bar-chart and graphs."
   ]
  },
  {
   "cell_type": "markdown",
   "metadata": {},
   "source": [
    "# Missing Values"
   ]
  },
  {
   "cell_type": "markdown",
   "metadata": {},
   "source": [
    "We can use seaborn to create a simple heatmap to see wherewe are missing data."
   ]
  },
  {
   "cell_type": "code",
   "execution_count": 4,
   "metadata": {},
   "outputs": [
    {
     "data": {
      "text/html": [
       "<div>\n",
       "<style scoped>\n",
       "    .dataframe tbody tr th:only-of-type {\n",
       "        vertical-align: middle;\n",
       "    }\n",
       "\n",
       "    .dataframe tbody tr th {\n",
       "        vertical-align: top;\n",
       "    }\n",
       "\n",
       "    .dataframe thead th {\n",
       "        text-align: right;\n",
       "    }\n",
       "</style>\n",
       "<table border=\"1\" class=\"dataframe\">\n",
       "  <thead>\n",
       "    <tr style=\"text-align: right;\">\n",
       "      <th></th>\n",
       "      <th>rating</th>\n",
       "      <th>reviews</th>\n",
       "    </tr>\n",
       "  </thead>\n",
       "  <tbody>\n",
       "    <tr>\n",
       "      <th>0</th>\n",
       "      <td>False</td>\n",
       "      <td>False</td>\n",
       "    </tr>\n",
       "    <tr>\n",
       "      <th>1</th>\n",
       "      <td>False</td>\n",
       "      <td>False</td>\n",
       "    </tr>\n",
       "    <tr>\n",
       "      <th>2</th>\n",
       "      <td>False</td>\n",
       "      <td>False</td>\n",
       "    </tr>\n",
       "    <tr>\n",
       "      <th>3</th>\n",
       "      <td>False</td>\n",
       "      <td>False</td>\n",
       "    </tr>\n",
       "    <tr>\n",
       "      <th>4</th>\n",
       "      <td>False</td>\n",
       "      <td>False</td>\n",
       "    </tr>\n",
       "    <tr>\n",
       "      <th>...</th>\n",
       "      <td>...</td>\n",
       "      <td>...</td>\n",
       "    </tr>\n",
       "    <tr>\n",
       "      <th>71039</th>\n",
       "      <td>False</td>\n",
       "      <td>False</td>\n",
       "    </tr>\n",
       "    <tr>\n",
       "      <th>71040</th>\n",
       "      <td>False</td>\n",
       "      <td>False</td>\n",
       "    </tr>\n",
       "    <tr>\n",
       "      <th>71041</th>\n",
       "      <td>False</td>\n",
       "      <td>False</td>\n",
       "    </tr>\n",
       "    <tr>\n",
       "      <th>71042</th>\n",
       "      <td>False</td>\n",
       "      <td>False</td>\n",
       "    </tr>\n",
       "    <tr>\n",
       "      <th>71043</th>\n",
       "      <td>False</td>\n",
       "      <td>False</td>\n",
       "    </tr>\n",
       "  </tbody>\n",
       "</table>\n",
       "<p>71044 rows × 2 columns</p>\n",
       "</div>"
      ],
      "text/plain": [
       "       rating  reviews\n",
       "0       False    False\n",
       "1       False    False\n",
       "2       False    False\n",
       "3       False    False\n",
       "4       False    False\n",
       "...       ...      ...\n",
       "71039   False    False\n",
       "71040   False    False\n",
       "71041   False    False\n",
       "71042   False    False\n",
       "71043   False    False\n",
       "\n",
       "[71044 rows x 2 columns]"
      ]
     },
     "execution_count": 4,
     "metadata": {},
     "output_type": "execute_result"
    }
   ],
   "source": [
    "df.isnull()"
   ]
  },
  {
   "cell_type": "code",
   "execution_count": 5,
   "metadata": {},
   "outputs": [
    {
     "data": {
      "text/plain": [
       "rating      0\n",
       "reviews    36\n",
       "dtype: int64"
      ]
     },
     "execution_count": 5,
     "metadata": {},
     "output_type": "execute_result"
    }
   ],
   "source": [
    "#Another way to check the missing data/Count the empty values in each column.\n",
    "\n",
    "\n",
    "df.isna().sum()"
   ]
  },
  {
   "cell_type": "markdown",
   "metadata": {},
   "source": [
    "In above, we find there are 36 data are missing in reviews columns.So, we have to remove these null in the below preprossing step to get better model accuracy. "
   ]
  },
  {
   "cell_type": "code",
   "execution_count": null,
   "metadata": {},
   "outputs": [],
   "source": []
  },
  {
   "cell_type": "code",
   "execution_count": 6,
   "metadata": {},
   "outputs": [
    {
     "name": "stdout",
     "output_type": "stream",
     "text": [
      "<class 'pandas.core.frame.DataFrame'>\n",
      "RangeIndex: 71044 entries, 0 to 71043\n",
      "Data columns (total 2 columns):\n",
      " #   Column   Non-Null Count  Dtype \n",
      "---  ------   --------------  ----- \n",
      " 0   rating   71044 non-null  int64 \n",
      " 1   reviews  71008 non-null  object\n",
      "dtypes: int64(1), object(1)\n",
      "memory usage: 1.1+ MB\n"
     ]
    }
   ],
   "source": [
    "#To get more information about dataset\n",
    "\n",
    "df.info()"
   ]
  },
  {
   "cell_type": "code",
   "execution_count": 7,
   "metadata": {},
   "outputs": [
    {
     "data": {
      "text/plain": [
       "<matplotlib.axes._subplots.AxesSubplot at 0x29f51d7c808>"
      ]
     },
     "execution_count": 7,
     "metadata": {},
     "output_type": "execute_result"
    },
    {
     "data": {
      "image/png": "[encoded data removed]",
      "text/plain": [
       "<Figure size 432x288 with 1 Axes>"
      ]
     },
     "metadata": {
      "needs_background": "light"
     },
     "output_type": "display_data"
    }
   ],
   "source": [
    "sns.heatmap(df.isnull(),yticklabels=False,cbar=False,cmap='viridis')"
   ]
  },
  {
   "cell_type": "markdown",
   "metadata": {},
   "source": [
    "# Visualize the count of rating"
   ]
  },
  {
   "cell_type": "code",
   "execution_count": 8,
   "metadata": {},
   "outputs": [
    {
     "data": {
      "text/plain": [
       "<matplotlib.axes._subplots.AxesSubplot at 0x29f524d5c08>"
      ]
     },
     "execution_count": 8,
     "metadata": {},
     "output_type": "execute_result"
    },
    {
     "data": {
      "image/png": "[encoded data removed]",
      "text/plain": [
       "<Figure size 432x288 with 1 Axes>"
      ]
     },
     "metadata": {},
     "output_type": "display_data"
    }
   ],
   "source": [
    "sns.set_style('whitegrid')\n",
    "sns.countplot(df['rating'])"
   ]
  },
  {
   "cell_type": "markdown",
   "metadata": {},
   "source": [
    "To show column rating in curve bar chat"
   ]
  },
  {
   "cell_type": "code",
   "execution_count": 9,
   "metadata": {},
   "outputs": [],
   "source": [
    "#sns.distplot(df['rating'],kde=False,color='whitegrid',bins=10)\n",
    "  #OR\n",
    "#sns.distplot(df['rating'],kde=False,color='whitegrid',bins=10)"
   ]
  },
  {
   "cell_type": "code",
   "execution_count": null,
   "metadata": {},
   "outputs": [],
   "source": []
  },
  {
   "cell_type": "code",
   "execution_count": 10,
   "metadata": {},
   "outputs": [],
   "source": [
    "#To fill the mean value in empty columns which gives nan values in text type of dataset so, its better to remove all empty rows.\n",
    "\n",
    "# df.rating = df.rating.fillna(df.rating.mean())\n",
    "# df.head(1363)"
   ]
  },
  {
   "cell_type": "code",
   "execution_count": 11,
   "metadata": {},
   "outputs": [
    {
     "data": {
      "text/html": [
       "<div>\n",
       "<style scoped>\n",
       "    .dataframe tbody tr th:only-of-type {\n",
       "        vertical-align: middle;\n",
       "    }\n",
       "\n",
       "    .dataframe tbody tr th {\n",
       "        vertical-align: top;\n",
       "    }\n",
       "\n",
       "    .dataframe thead th {\n",
       "        text-align: right;\n",
       "    }\n",
       "</style>\n",
       "<table border=\"1\" class=\"dataframe\">\n",
       "  <thead>\n",
       "    <tr style=\"text-align: right;\">\n",
       "      <th></th>\n",
       "      <th>rating</th>\n",
       "      <th>reviews</th>\n",
       "    </tr>\n",
       "  </thead>\n",
       "  <tbody>\n",
       "    <tr>\n",
       "      <th>0</th>\n",
       "      <td>5</td>\n",
       "      <td>i love this album. it's very good. more to the hip hop side than her current pop sound.. SO HYPE! i listen to this everyday at the gym! i give it 5star rating all the way. her metaphors are just c...</td>\n",
       "    </tr>\n",
       "    <tr>\n",
       "      <th>1</th>\n",
       "      <td>5</td>\n",
       "      <td>Good flavor. This review was collected as part of a promotion.</td>\n",
       "    </tr>\n",
       "    <tr>\n",
       "      <th>2</th>\n",
       "      <td>5</td>\n",
       "      <td>Good flavor.</td>\n",
       "    </tr>\n",
       "    <tr>\n",
       "      <th>3</th>\n",
       "      <td>1</td>\n",
       "      <td>I read through the reviews on here before looking in to buying one of the couples lubricants, and was ultimately disappointed that it didn't even live up to the reviews I had read. For starters, n...</td>\n",
       "    </tr>\n",
       "    <tr>\n",
       "      <th>4</th>\n",
       "      <td>1</td>\n",
       "      <td>My husband bought this gel for us. The gel caused irritation and it felt like it was burning my skin. I wouldn't recommend this gel.</td>\n",
       "    </tr>\n",
       "    <tr>\n",
       "      <th>...</th>\n",
       "      <td>...</td>\n",
       "      <td>...</td>\n",
       "    </tr>\n",
       "    <tr>\n",
       "      <th>71039</th>\n",
       "      <td>5</td>\n",
       "      <td>I'm dealing with dry eyes and very sensitive to products. The eye clinic suggested this product and it's been just what I needed. I put a drop in each eye in the morning when I put my contacts in ...</td>\n",
       "    </tr>\n",
       "    <tr>\n",
       "      <th>71040</th>\n",
       "      <td>5</td>\n",
       "      <td>Great stuff! Helps keep my contacts moist all day!</td>\n",
       "    </tr>\n",
       "    <tr>\n",
       "      <th>71041</th>\n",
       "      <td>5</td>\n",
       "      <td>Right price</td>\n",
       "    </tr>\n",
       "    <tr>\n",
       "      <th>71042</th>\n",
       "      <td>5</td>\n",
       "      <td>I was so pleased when this scarf arrived for multiple reasons. The print and colors are beautiful and will go many outfits, casual or dressy. The muslin texture of the scarf is so soft and the cov...</td>\n",
       "    </tr>\n",
       "    <tr>\n",
       "      <th>71043</th>\n",
       "      <td>5</td>\n",
       "      <td>Excellent album, makes the holidays better, gives off a nice Christmas vibe.</td>\n",
       "    </tr>\n",
       "  </tbody>\n",
       "</table>\n",
       "<p>71008 rows × 2 columns</p>\n",
       "</div>"
      ],
      "text/plain": [
       "       rating  \\\n",
       "0           5   \n",
       "1           5   \n",
       "2           5   \n",
       "3           1   \n",
       "4           1   \n",
       "...       ...   \n",
       "71039       5   \n",
       "71040       5   \n",
       "71041       5   \n",
       "71042       5   \n",
       "71043       5   \n",
       "\n",
       "                                                                                                                                                                                                       reviews  \n",
       "0      i love this album. it's very good. more to the hip hop side than her current pop sound.. SO HYPE! i listen to this everyday at the gym! i give it 5star rating all the way. her metaphors are just c...  \n",
       "1                                                                                                                                               Good flavor. This review was collected as part of a promotion.  \n",
       "2                                                                                                                                                                                                 Good flavor.  \n",
       "3      I read through the reviews on here before looking in to buying one of the couples lubricants, and was ultimately disappointed that it didn't even live up to the reviews I had read. For starters, n...  \n",
       "4                                                                         My husband bought this gel for us. The gel caused irritation and it felt like it was burning my skin. I wouldn't recommend this gel.  \n",
       "...                                                                                                                                                                                                        ...  \n",
       "71039  I'm dealing with dry eyes and very sensitive to products. The eye clinic suggested this product and it's been just what I needed. I put a drop in each eye in the morning when I put my contacts in ...  \n",
       "71040                                                                                                                                                       Great stuff! Helps keep my contacts moist all day!  \n",
       "71041                                                                                                                                                                                              Right price  \n",
       "71042  I was so pleased when this scarf arrived for multiple reasons. The print and colors are beautiful and will go many outfits, casual or dressy. The muslin texture of the scarf is so soft and the cov...  \n",
       "71043                                                                                                                             Excellent album, makes the holidays better, gives off a nice Christmas vibe.  \n",
       "\n",
       "[71008 rows x 2 columns]"
      ]
     },
     "execution_count": 11,
     "metadata": {},
     "output_type": "execute_result"
    }
   ],
   "source": [
    "# #To remove all the rows that contains null values\n",
    "\n",
    "df.dropna(subset = [\"reviews\"], inplace=True)\n",
    "df\n"
   ]
  },
  {
   "cell_type": "markdown",
   "metadata": {},
   "source": [
    "# Preprocessing"
   ]
  },
  {
   "cell_type": "code",
   "execution_count": 12,
   "metadata": {},
   "outputs": [
    {
     "data": {
      "text/html": [
       "<div>\n",
       "<style scoped>\n",
       "    .dataframe tbody tr th:only-of-type {\n",
       "        vertical-align: middle;\n",
       "    }\n",
       "\n",
       "    .dataframe tbody tr th {\n",
       "        vertical-align: top;\n",
       "    }\n",
       "\n",
       "    .dataframe thead th {\n",
       "        text-align: right;\n",
       "    }\n",
       "</style>\n",
       "<table border=\"1\" class=\"dataframe\">\n",
       "  <thead>\n",
       "    <tr style=\"text-align: right;\">\n",
       "      <th></th>\n",
       "      <th>rating</th>\n",
       "      <th>reviews</th>\n",
       "    </tr>\n",
       "  </thead>\n",
       "  <tbody>\n",
       "    <tr>\n",
       "      <th>0</th>\n",
       "      <td>5</td>\n",
       "      <td>i love this album. it's very good. more to the hip hop side than her current pop sound.. so hype! i listen to this everyday at the gym! i give it 5star rating all the way. her metaphors are just c...</td>\n",
       "    </tr>\n",
       "    <tr>\n",
       "      <th>1</th>\n",
       "      <td>5</td>\n",
       "      <td>good flavor. this review was collected as part of a promotion.</td>\n",
       "    </tr>\n",
       "    <tr>\n",
       "      <th>2</th>\n",
       "      <td>5</td>\n",
       "      <td>good flavor.</td>\n",
       "    </tr>\n",
       "    <tr>\n",
       "      <th>3</th>\n",
       "      <td>1</td>\n",
       "      <td>i read through the reviews on here before looking in to buying one of the couples lubricants, and was ultimately disappointed that it didn't even live up to the reviews i had read. for starters, n...</td>\n",
       "    </tr>\n",
       "    <tr>\n",
       "      <th>4</th>\n",
       "      <td>1</td>\n",
       "      <td>my husband bought this gel for us. the gel caused irritation and it felt like it was burning my skin. i wouldn't recommend this gel.</td>\n",
       "    </tr>\n",
       "  </tbody>\n",
       "</table>\n",
       "</div>"
      ],
      "text/plain": [
       "   rating  \\\n",
       "0       5   \n",
       "1       5   \n",
       "2       5   \n",
       "3       1   \n",
       "4       1   \n",
       "\n",
       "                                                                                                                                                                                                   reviews  \n",
       "0  i love this album. it's very good. more to the hip hop side than her current pop sound.. so hype! i listen to this everyday at the gym! i give it 5star rating all the way. her metaphors are just c...  \n",
       "1                                                                                                                                           good flavor. this review was collected as part of a promotion.  \n",
       "2                                                                                                                                                                                             good flavor.  \n",
       "3  i read through the reviews on here before looking in to buying one of the couples lubricants, and was ultimately disappointed that it didn't even live up to the reviews i had read. for starters, n...  \n",
       "4                                                                     my husband bought this gel for us. the gel caused irritation and it felt like it was burning my skin. i wouldn't recommend this gel.  "
      ]
     },
     "execution_count": 12,
     "metadata": {},
     "output_type": "execute_result"
    }
   ],
   "source": [
    "df.reviews = df.reviews.astype(str) \n",
    "df.rating = df.rating.astype(int) \n",
    "df.reviews = df.reviews.apply(lambda x: x.lower())\n",
    "df.head()"
   ]
  },
  {
   "cell_type": "markdown",
   "metadata": {},
   "source": [
    "# Removing Punctuation "
   ]
  },
  {
   "cell_type": "code",
   "execution_count": 13,
   "metadata": {},
   "outputs": [],
   "source": [
    "import string\n",
    "def remove_punctuations(txt):\n",
    "    txt = \"\".join([c for c in txt if c not in string.punctuation])\n",
    "    return txt"
   ]
  },
  {
   "cell_type": "code",
   "execution_count": 14,
   "metadata": {},
   "outputs": [
    {
     "data": {
      "text/html": [
       "<div>\n",
       "<style scoped>\n",
       "    .dataframe tbody tr th:only-of-type {\n",
       "        vertical-align: middle;\n",
       "    }\n",
       "\n",
       "    .dataframe tbody tr th {\n",
       "        vertical-align: top;\n",
       "    }\n",
       "\n",
       "    .dataframe thead th {\n",
       "        text-align: right;\n",
       "    }\n",
       "</style>\n",
       "<table border=\"1\" class=\"dataframe\">\n",
       "  <thead>\n",
       "    <tr style=\"text-align: right;\">\n",
       "      <th></th>\n",
       "      <th>rating</th>\n",
       "      <th>reviews</th>\n",
       "      <th>new_column</th>\n",
       "    </tr>\n",
       "  </thead>\n",
       "  <tbody>\n",
       "    <tr>\n",
       "      <th>0</th>\n",
       "      <td>5</td>\n",
       "      <td>i love this album. it's very good. more to the hip hop side than her current pop sound.. so hype! i listen to this everyday at the gym! i give it 5star rating all the way. her metaphors are just c...</td>\n",
       "      <td>i love this album its very good more to the hip hop side than her current pop sound so hype i listen to this everyday at the gym i give it 5star rating all the way her metaphors are just crazy</td>\n",
       "    </tr>\n",
       "    <tr>\n",
       "      <th>1</th>\n",
       "      <td>5</td>\n",
       "      <td>good flavor. this review was collected as part of a promotion.</td>\n",
       "      <td>good flavor this review was collected as part of a promotion</td>\n",
       "    </tr>\n",
       "    <tr>\n",
       "      <th>2</th>\n",
       "      <td>5</td>\n",
       "      <td>good flavor.</td>\n",
       "      <td>good flavor</td>\n",
       "    </tr>\n",
       "    <tr>\n",
       "      <th>3</th>\n",
       "      <td>1</td>\n",
       "      <td>i read through the reviews on here before looking in to buying one of the couples lubricants, and was ultimately disappointed that it didn't even live up to the reviews i had read. for starters, n...</td>\n",
       "      <td>i read through the reviews on here before looking in to buying one of the couples lubricants and was ultimately disappointed that it didnt even live up to the reviews i had read for starters neith...</td>\n",
       "    </tr>\n",
       "    <tr>\n",
       "      <th>4</th>\n",
       "      <td>1</td>\n",
       "      <td>my husband bought this gel for us. the gel caused irritation and it felt like it was burning my skin. i wouldn't recommend this gel.</td>\n",
       "      <td>my husband bought this gel for us the gel caused irritation and it felt like it was burning my skin i wouldnt recommend this gel</td>\n",
       "    </tr>\n",
       "  </tbody>\n",
       "</table>\n",
       "</div>"
      ],
      "text/plain": [
       "   rating  \\\n",
       "0       5   \n",
       "1       5   \n",
       "2       5   \n",
       "3       1   \n",
       "4       1   \n",
       "\n",
       "                                                                                                                                                                                                   reviews  \\\n",
       "0  i love this album. it's very good. more to the hip hop side than her current pop sound.. so hype! i listen to this everyday at the gym! i give it 5star rating all the way. her metaphors are just c...   \n",
       "1                                                                                                                                           good flavor. this review was collected as part of a promotion.   \n",
       "2                                                                                                                                                                                             good flavor.   \n",
       "3  i read through the reviews on here before looking in to buying one of the couples lubricants, and was ultimately disappointed that it didn't even live up to the reviews i had read. for starters, n...   \n",
       "4                                                                     my husband bought this gel for us. the gel caused irritation and it felt like it was burning my skin. i wouldn't recommend this gel.   \n",
       "\n",
       "                                                                                                                                                                                                new_column  \n",
       "0         i love this album its very good more to the hip hop side than her current pop sound so hype i listen to this everyday at the gym i give it 5star rating all the way her metaphors are just crazy  \n",
       "1                                                                                                                                             good flavor this review was collected as part of a promotion  \n",
       "2                                                                                                                                                                                              good flavor  \n",
       "3  i read through the reviews on here before looking in to buying one of the couples lubricants and was ultimately disappointed that it didnt even live up to the reviews i had read for starters neith...  \n",
       "4                                                                         my husband bought this gel for us the gel caused irritation and it felt like it was burning my skin i wouldnt recommend this gel  "
      ]
     },
     "execution_count": 14,
     "metadata": {},
     "output_type": "execute_result"
    }
   ],
   "source": [
    "df['new_column'] = df['reviews'].apply(remove_punctuations)\n",
    "df.head()"
   ]
  },
  {
   "cell_type": "markdown",
   "metadata": {},
   "source": [
    "# Removing Number "
   ]
  },
  {
   "cell_type": "code",
   "execution_count": 15,
   "metadata": {},
   "outputs": [
    {
     "data": {
      "text/html": [
       "<div>\n",
       "<style scoped>\n",
       "    .dataframe tbody tr th:only-of-type {\n",
       "        vertical-align: middle;\n",
       "    }\n",
       "\n",
       "    .dataframe tbody tr th {\n",
       "        vertical-align: top;\n",
       "    }\n",
       "\n",
       "    .dataframe thead th {\n",
       "        text-align: right;\n",
       "    }\n",
       "</style>\n",
       "<table border=\"1\" class=\"dataframe\">\n",
       "  <thead>\n",
       "    <tr style=\"text-align: right;\">\n",
       "      <th></th>\n",
       "      <th>rating</th>\n",
       "      <th>reviews</th>\n",
       "      <th>new_column</th>\n",
       "      <th>new_cloumns</th>\n",
       "    </tr>\n",
       "  </thead>\n",
       "  <tbody>\n",
       "    <tr>\n",
       "      <th>0</th>\n",
       "      <td>5</td>\n",
       "      <td>i love this album. it's very good. more to the hip hop side than her current pop sound.. so hype! i listen to this everyday at the gym! i give it 5star rating all the way. her metaphors are just c...</td>\n",
       "      <td>i love this album its very good more to the hip hop side than her current pop sound so hype i listen to this everyday at the gym i give it 5star rating all the way her metaphors are just crazy</td>\n",
       "      <td>i love this album its very good more to the hip hop side than her current pop sound so hype i listen to this everyday at the gym i give it numberstar rating all the way her metaphors are just crazy</td>\n",
       "    </tr>\n",
       "    <tr>\n",
       "      <th>1</th>\n",
       "      <td>5</td>\n",
       "      <td>good flavor. this review was collected as part of a promotion.</td>\n",
       "      <td>good flavor this review was collected as part of a promotion</td>\n",
       "      <td>good flavor this review was collected as part of a promotion</td>\n",
       "    </tr>\n",
       "    <tr>\n",
       "      <th>2</th>\n",
       "      <td>5</td>\n",
       "      <td>good flavor.</td>\n",
       "      <td>good flavor</td>\n",
       "      <td>good flavor</td>\n",
       "    </tr>\n",
       "    <tr>\n",
       "      <th>3</th>\n",
       "      <td>1</td>\n",
       "      <td>i read through the reviews on here before looking in to buying one of the couples lubricants, and was ultimately disappointed that it didn't even live up to the reviews i had read. for starters, n...</td>\n",
       "      <td>i read through the reviews on here before looking in to buying one of the couples lubricants and was ultimately disappointed that it didnt even live up to the reviews i had read for starters neith...</td>\n",
       "      <td>i read through the reviews on here before looking in to buying one of the couples lubricants and was ultimately disappointed that it didnt even live up to the reviews i had read for starters neith...</td>\n",
       "    </tr>\n",
       "    <tr>\n",
       "      <th>4</th>\n",
       "      <td>1</td>\n",
       "      <td>my husband bought this gel for us. the gel caused irritation and it felt like it was burning my skin. i wouldn't recommend this gel.</td>\n",
       "      <td>my husband bought this gel for us the gel caused irritation and it felt like it was burning my skin i wouldnt recommend this gel</td>\n",
       "      <td>my husband bought this gel for us the gel caused irritation and it felt like it was burning my skin i wouldnt recommend this gel</td>\n",
       "    </tr>\n",
       "    <tr>\n",
       "      <th>5</th>\n",
       "      <td>1</td>\n",
       "      <td>my boyfriend and i bought this to spice things up in the bedroom and we were both highly disappointed in this product. we bought this one because we absolutely love the ky yours and mine and we th...</td>\n",
       "      <td>my boyfriend and i bought this to spice things up in the bedroom and we were both highly disappointed in this product we bought this one because we absolutely love the ky yours and mine and we tho...</td>\n",
       "      <td>my boyfriend and i bought this to spice things up in the bedroom and we were both highly disappointed in this product we bought this one because we absolutely love the ky yours and mine and we tho...</td>\n",
       "    </tr>\n",
       "    <tr>\n",
       "      <th>6</th>\n",
       "      <td>1</td>\n",
       "      <td>bought this earlier today and was excited to check it out. based on the product description i was expecting something but it was just like the regular ky. we are fans of the his and hers so we jus...</td>\n",
       "      <td>bought this earlier today and was excited to check it out based on the product description i was expecting something but it was just like the regular ky we are fans of the his and hers so we just ...</td>\n",
       "      <td>bought this earlier today and was excited to check it out based on the product description i was expecting something but it was just like the regular ky we are fans of the his and hers so we just ...</td>\n",
       "    </tr>\n",
       "    <tr>\n",
       "      <th>7</th>\n",
       "      <td>1</td>\n",
       "      <td>i bought this product for my husband and i to try and we were not impressed at all. there was no tingling or warming. it left us both very sticky. i have used ky products in the past (loved ky his...</td>\n",
       "      <td>i bought this product for my husband and i to try and we were not impressed at all there was no tingling or warming it left us both very sticky i have used ky products in the past loved ky his and...</td>\n",
       "      <td>i bought this product for my husband and i to try and we were not impressed at all there was no tingling or warming it left us both very sticky i have used ky products in the past loved ky his and...</td>\n",
       "    </tr>\n",
       "    <tr>\n",
       "      <th>8</th>\n",
       "      <td>1</td>\n",
       "      <td>my husband and i bought this for some extra fun. we werevboth extremely disappointed. especially for the price! do not waste your money on this product. we felt nothing but a sticky mess from it.</td>\n",
       "      <td>my husband and i bought this for some extra fun we werevboth extremely disappointed especially for the price do not waste your money on this product we felt nothing but a sticky mess from it</td>\n",
       "      <td>my husband and i bought this for some extra fun we werevboth extremely disappointed especially for the price do not waste your money on this product we felt nothing but a sticky mess from it</td>\n",
       "    </tr>\n",
       "    <tr>\n",
       "      <th>9</th>\n",
       "      <td>1</td>\n",
       "      <td>got as a surprise for my husband there is nothing special about it just a lube save the money and get plain ky if you just need a lube wish i could return it for a refund</td>\n",
       "      <td>got as a surprise for my husband there is nothing special about it just a lube save the money and get plain ky if you just need a lube wish i could return it for a refund</td>\n",
       "      <td>got as a surprise for my husband there is nothing special about it just a lube save the money and get plain ky if you just need a lube wish i could return it for a refund</td>\n",
       "    </tr>\n",
       "  </tbody>\n",
       "</table>\n",
       "</div>"
      ],
      "text/plain": [
       "   rating  \\\n",
       "0       5   \n",
       "1       5   \n",
       "2       5   \n",
       "3       1   \n",
       "4       1   \n",
       "5       1   \n",
       "6       1   \n",
       "7       1   \n",
       "8       1   \n",
       "9       1   \n",
       "\n",
       "                                                                                                                                                                                                   reviews  \\\n",
       "0  i love this album. it's very good. more to the hip hop side than her current pop sound.. so hype! i listen to this everyday at the gym! i give it 5star rating all the way. her metaphors are just c...   \n",
       "1                                                                                                                                           good flavor. this review was collected as part of a promotion.   \n",
       "2                                                                                                                                                                                             good flavor.   \n",
       "3  i read through the reviews on here before looking in to buying one of the couples lubricants, and was ultimately disappointed that it didn't even live up to the reviews i had read. for starters, n...   \n",
       "4                                                                     my husband bought this gel for us. the gel caused irritation and it felt like it was burning my skin. i wouldn't recommend this gel.   \n",
       "5  my boyfriend and i bought this to spice things up in the bedroom and we were both highly disappointed in this product. we bought this one because we absolutely love the ky yours and mine and we th...   \n",
       "6  bought this earlier today and was excited to check it out. based on the product description i was expecting something but it was just like the regular ky. we are fans of the his and hers so we jus...   \n",
       "7  i bought this product for my husband and i to try and we were not impressed at all. there was no tingling or warming. it left us both very sticky. i have used ky products in the past (loved ky his...   \n",
       "8      my husband and i bought this for some extra fun. we werevboth extremely disappointed. especially for the price! do not waste your money on this product. we felt nothing but a sticky mess from it.   \n",
       "9                               got as a surprise for my husband there is nothing special about it just a lube save the money and get plain ky if you just need a lube wish i could return it for a refund   \n",
       "\n",
       "                                                                                                                                                                                                new_column  \\\n",
       "0         i love this album its very good more to the hip hop side than her current pop sound so hype i listen to this everyday at the gym i give it 5star rating all the way her metaphors are just crazy   \n",
       "1                                                                                                                                             good flavor this review was collected as part of a promotion   \n",
       "2                                                                                                                                                                                              good flavor   \n",
       "3  i read through the reviews on here before looking in to buying one of the couples lubricants and was ultimately disappointed that it didnt even live up to the reviews i had read for starters neith...   \n",
       "4                                                                         my husband bought this gel for us the gel caused irritation and it felt like it was burning my skin i wouldnt recommend this gel   \n",
       "5  my boyfriend and i bought this to spice things up in the bedroom and we were both highly disappointed in this product we bought this one because we absolutely love the ky yours and mine and we tho...   \n",
       "6  bought this earlier today and was excited to check it out based on the product description i was expecting something but it was just like the regular ky we are fans of the his and hers so we just ...   \n",
       "7  i bought this product for my husband and i to try and we were not impressed at all there was no tingling or warming it left us both very sticky i have used ky products in the past loved ky his and...   \n",
       "8           my husband and i bought this for some extra fun we werevboth extremely disappointed especially for the price do not waste your money on this product we felt nothing but a sticky mess from it   \n",
       "9                               got as a surprise for my husband there is nothing special about it just a lube save the money and get plain ky if you just need a lube wish i could return it for a refund   \n",
       "\n",
       "                                                                                                                                                                                               new_cloumns  \n",
       "0    i love this album its very good more to the hip hop side than her current pop sound so hype i listen to this everyday at the gym i give it numberstar rating all the way her metaphors are just crazy  \n",
       "1                                                                                                                                             good flavor this review was collected as part of a promotion  \n",
       "2                                                                                                                                                                                              good flavor  \n",
       "3  i read through the reviews on here before looking in to buying one of the couples lubricants and was ultimately disappointed that it didnt even live up to the reviews i had read for starters neith...  \n",
       "4                                                                         my husband bought this gel for us the gel caused irritation and it felt like it was burning my skin i wouldnt recommend this gel  \n",
       "5  my boyfriend and i bought this to spice things up in the bedroom and we were both highly disappointed in this product we bought this one because we absolutely love the ky yours and mine and we tho...  \n",
       "6  bought this earlier today and was excited to check it out based on the product description i was expecting something but it was just like the regular ky we are fans of the his and hers so we just ...  \n",
       "7  i bought this product for my husband and i to try and we were not impressed at all there was no tingling or warming it left us both very sticky i have used ky products in the past loved ky his and...  \n",
       "8           my husband and i bought this for some extra fun we werevboth extremely disappointed especially for the price do not waste your money on this product we felt nothing but a sticky mess from it  \n",
       "9                               got as a surprise for my husband there is nothing special about it just a lube save the money and get plain ky if you just need a lube wish i could return it for a refund  "
      ]
     },
     "execution_count": 15,
     "metadata": {},
     "output_type": "execute_result"
    }
   ],
   "source": [
    "df['new_cloumns'] = df['new_column'].str.replace('\\d+', 'number') # to replace no. by \"\"\n",
    "df.head(10)"
   ]
  },
  {
   "cell_type": "markdown",
   "metadata": {},
   "source": [
    "# Tokenization"
   ]
  },
  {
   "cell_type": "code",
   "execution_count": 16,
   "metadata": {},
   "outputs": [
    {
     "data": {
      "text/html": [
       "<div>\n",
       "<style scoped>\n",
       "    .dataframe tbody tr th:only-of-type {\n",
       "        vertical-align: middle;\n",
       "    }\n",
       "\n",
       "    .dataframe tbody tr th {\n",
       "        vertical-align: top;\n",
       "    }\n",
       "\n",
       "    .dataframe thead th {\n",
       "        text-align: right;\n",
       "    }\n",
       "</style>\n",
       "<table border=\"1\" class=\"dataframe\">\n",
       "  <thead>\n",
       "    <tr style=\"text-align: right;\">\n",
       "      <th></th>\n",
       "      <th>rating</th>\n",
       "      <th>reviews</th>\n",
       "      <th>new_column</th>\n",
       "      <th>new_cloumns</th>\n",
       "      <th>tokenize</th>\n",
       "    </tr>\n",
       "  </thead>\n",
       "  <tbody>\n",
       "    <tr>\n",
       "      <th>0</th>\n",
       "      <td>5</td>\n",
       "      <td>i love this album. it's very good. more to the hip hop side than her current pop sound.. so hype! i listen to this everyday at the gym! i give it 5star rating all the way. her metaphors are just c...</td>\n",
       "      <td>i love this album its very good more to the hip hop side than her current pop sound so hype i listen to this everyday at the gym i give it 5star rating all the way her metaphors are just crazy</td>\n",
       "      <td>i love this album its very good more to the hip hop side than her current pop sound so hype i listen to this everyday at the gym i give it numberstar rating all the way her metaphors are just crazy</td>\n",
       "      <td>[i, love, this, album, its, very, good, more, to, the, hip, hop, side, than, her, current, pop, sound, so, hype, i, listen, to, this, everyday, at, the, gym, i, give, it, 5star, rating, all, the, ...</td>\n",
       "    </tr>\n",
       "    <tr>\n",
       "      <th>1</th>\n",
       "      <td>5</td>\n",
       "      <td>good flavor. this review was collected as part of a promotion.</td>\n",
       "      <td>good flavor this review was collected as part of a promotion</td>\n",
       "      <td>good flavor this review was collected as part of a promotion</td>\n",
       "      <td>[good, flavor, this, review, was, collected, as, part, of, a, promotion]</td>\n",
       "    </tr>\n",
       "    <tr>\n",
       "      <th>2</th>\n",
       "      <td>5</td>\n",
       "      <td>good flavor.</td>\n",
       "      <td>good flavor</td>\n",
       "      <td>good flavor</td>\n",
       "      <td>[good, flavor]</td>\n",
       "    </tr>\n",
       "    <tr>\n",
       "      <th>3</th>\n",
       "      <td>1</td>\n",
       "      <td>i read through the reviews on here before looking in to buying one of the couples lubricants, and was ultimately disappointed that it didn't even live up to the reviews i had read. for starters, n...</td>\n",
       "      <td>i read through the reviews on here before looking in to buying one of the couples lubricants and was ultimately disappointed that it didnt even live up to the reviews i had read for starters neith...</td>\n",
       "      <td>i read through the reviews on here before looking in to buying one of the couples lubricants and was ultimately disappointed that it didnt even live up to the reviews i had read for starters neith...</td>\n",
       "      <td>[i, read, through, the, reviews, on, here, before, looking, in, to, buying, one, of, the, couples, lubricants, and, was, ultimately, disappointed, that, it, didnt, even, live, up, to, the, reviews...</td>\n",
       "    </tr>\n",
       "    <tr>\n",
       "      <th>4</th>\n",
       "      <td>1</td>\n",
       "      <td>my husband bought this gel for us. the gel caused irritation and it felt like it was burning my skin. i wouldn't recommend this gel.</td>\n",
       "      <td>my husband bought this gel for us the gel caused irritation and it felt like it was burning my skin i wouldnt recommend this gel</td>\n",
       "      <td>my husband bought this gel for us the gel caused irritation and it felt like it was burning my skin i wouldnt recommend this gel</td>\n",
       "      <td>[my, husband, bought, this, gel, for, us, the, gel, caused, irritation, and, it, felt, like, it, was, burning, my, skin, i, wouldnt, recommend, this, gel]</td>\n",
       "    </tr>\n",
       "  </tbody>\n",
       "</table>\n",
       "</div>"
      ],
      "text/plain": [
       "   rating  \\\n",
       "0       5   \n",
       "1       5   \n",
       "2       5   \n",
       "3       1   \n",
       "4       1   \n",
       "\n",
       "                                                                                                                                                                                                   reviews  \\\n",
       "0  i love this album. it's very good. more to the hip hop side than her current pop sound.. so hype! i listen to this everyday at the gym! i give it 5star rating all the way. her metaphors are just c...   \n",
       "1                                                                                                                                           good flavor. this review was collected as part of a promotion.   \n",
       "2                                                                                                                                                                                             good flavor.   \n",
       "3  i read through the reviews on here before looking in to buying one of the couples lubricants, and was ultimately disappointed that it didn't even live up to the reviews i had read. for starters, n...   \n",
       "4                                                                     my husband bought this gel for us. the gel caused irritation and it felt like it was burning my skin. i wouldn't recommend this gel.   \n",
       "\n",
       "                                                                                                                                                                                                new_column  \\\n",
       "0         i love this album its very good more to the hip hop side than her current pop sound so hype i listen to this everyday at the gym i give it 5star rating all the way her metaphors are just crazy   \n",
       "1                                                                                                                                             good flavor this review was collected as part of a promotion   \n",
       "2                                                                                                                                                                                              good flavor   \n",
       "3  i read through the reviews on here before looking in to buying one of the couples lubricants and was ultimately disappointed that it didnt even live up to the reviews i had read for starters neith...   \n",
       "4                                                                         my husband bought this gel for us the gel caused irritation and it felt like it was burning my skin i wouldnt recommend this gel   \n",
       "\n",
       "                                                                                                                                                                                               new_cloumns  \\\n",
       "0    i love this album its very good more to the hip hop side than her current pop sound so hype i listen to this everyday at the gym i give it numberstar rating all the way her metaphors are just crazy   \n",
       "1                                                                                                                                             good flavor this review was collected as part of a promotion   \n",
       "2                                                                                                                                                                                              good flavor   \n",
       "3  i read through the reviews on here before looking in to buying one of the couples lubricants and was ultimately disappointed that it didnt even live up to the reviews i had read for starters neith...   \n",
       "4                                                                         my husband bought this gel for us the gel caused irritation and it felt like it was burning my skin i wouldnt recommend this gel   \n",
       "\n",
       "                                                                                                                                                                                                  tokenize  \n",
       "0  [i, love, this, album, its, very, good, more, to, the, hip, hop, side, than, her, current, pop, sound, so, hype, i, listen, to, this, everyday, at, the, gym, i, give, it, 5star, rating, all, the, ...  \n",
       "1                                                                                                                                 [good, flavor, this, review, was, collected, as, part, of, a, promotion]  \n",
       "2                                                                                                                                                                                           [good, flavor]  \n",
       "3  [i, read, through, the, reviews, on, here, before, looking, in, to, buying, one, of, the, couples, lubricants, and, was, ultimately, disappointed, that, it, didnt, even, live, up, to, the, reviews...  \n",
       "4                                               [my, husband, bought, this, gel, for, us, the, gel, caused, irritation, and, it, felt, like, it, was, burning, my, skin, i, wouldnt, recommend, this, gel]  "
      ]
     },
     "execution_count": 16,
     "metadata": {},
     "output_type": "execute_result"
    }
   ],
   "source": [
    "import re\n",
    "\n",
    "def tokenize(txt):\n",
    "    tokens = re.split('\\W+' , txt)\n",
    "    return tokens\n",
    "df['tokenize']=df['new_column'].apply(lambda x: tokenize(x.lower()))\n",
    "df.head()"
   ]
  },
  {
   "cell_type": "markdown",
   "metadata": {},
   "source": [
    "# Removing Stopword "
   ]
  },
  {
   "cell_type": "code",
   "execution_count": 17,
   "metadata": {},
   "outputs": [
    {
     "data": {
      "text/plain": [
       "['i', 'me', 'my', 'myself', 'we', 'our', 'ours', 'ourselves', 'you', \"you're\"]"
      ]
     },
     "execution_count": 17,
     "metadata": {},
     "output_type": "execute_result"
    }
   ],
   "source": [
    "import nltk\n",
    "stopwords = nltk.corpus.stopwords.words('english')\n",
    "stopwords[0:10]"
   ]
  },
  {
   "cell_type": "code",
   "execution_count": 18,
   "metadata": {},
   "outputs": [
    {
     "data": {
      "text/html": [
       "<div>\n",
       "<style scoped>\n",
       "    .dataframe tbody tr th:only-of-type {\n",
       "        vertical-align: middle;\n",
       "    }\n",
       "\n",
       "    .dataframe tbody tr th {\n",
       "        vertical-align: top;\n",
       "    }\n",
       "\n",
       "    .dataframe thead th {\n",
       "        text-align: right;\n",
       "    }\n",
       "</style>\n",
       "<table border=\"1\" class=\"dataframe\">\n",
       "  <thead>\n",
       "    <tr style=\"text-align: right;\">\n",
       "      <th></th>\n",
       "      <th>rating</th>\n",
       "      <th>reviews</th>\n",
       "      <th>new_column</th>\n",
       "      <th>new_cloumns</th>\n",
       "      <th>tokenize</th>\n",
       "      <th>sw</th>\n",
       "    </tr>\n",
       "  </thead>\n",
       "  <tbody>\n",
       "    <tr>\n",
       "      <th>0</th>\n",
       "      <td>5</td>\n",
       "      <td>i love this album. it's very good. more to the hip hop side than her current pop sound.. so hype! i listen to this everyday at the gym! i give it 5star rating all the way. her metaphors are just c...</td>\n",
       "      <td>i love this album its very good more to the hip hop side than her current pop sound so hype i listen to this everyday at the gym i give it 5star rating all the way her metaphors are just crazy</td>\n",
       "      <td>i love this album its very good more to the hip hop side than her current pop sound so hype i listen to this everyday at the gym i give it numberstar rating all the way her metaphors are just crazy</td>\n",
       "      <td>[i, love, this, album, its, very, good, more, to, the, hip, hop, side, than, her, current, pop, sound, so, hype, i, listen, to, this, everyday, at, the, gym, i, give, it, 5star, rating, all, the, ...</td>\n",
       "      <td>[love, album, good, hip, hop, side, current, pop, sound, hype, listen, everyday, gym, give, 5star, rating, way, metaphors, crazy]</td>\n",
       "    </tr>\n",
       "    <tr>\n",
       "      <th>1</th>\n",
       "      <td>5</td>\n",
       "      <td>good flavor. this review was collected as part of a promotion.</td>\n",
       "      <td>good flavor this review was collected as part of a promotion</td>\n",
       "      <td>good flavor this review was collected as part of a promotion</td>\n",
       "      <td>[good, flavor, this, review, was, collected, as, part, of, a, promotion]</td>\n",
       "      <td>[good, flavor, review, collected, part, promotion]</td>\n",
       "    </tr>\n",
       "    <tr>\n",
       "      <th>2</th>\n",
       "      <td>5</td>\n",
       "      <td>good flavor.</td>\n",
       "      <td>good flavor</td>\n",
       "      <td>good flavor</td>\n",
       "      <td>[good, flavor]</td>\n",
       "      <td>[good, flavor]</td>\n",
       "    </tr>\n",
       "    <tr>\n",
       "      <th>3</th>\n",
       "      <td>1</td>\n",
       "      <td>i read through the reviews on here before looking in to buying one of the couples lubricants, and was ultimately disappointed that it didn't even live up to the reviews i had read. for starters, n...</td>\n",
       "      <td>i read through the reviews on here before looking in to buying one of the couples lubricants and was ultimately disappointed that it didnt even live up to the reviews i had read for starters neith...</td>\n",
       "      <td>i read through the reviews on here before looking in to buying one of the couples lubricants and was ultimately disappointed that it didnt even live up to the reviews i had read for starters neith...</td>\n",
       "      <td>[i, read, through, the, reviews, on, here, before, looking, in, to, buying, one, of, the, couples, lubricants, and, was, ultimately, disappointed, that, it, didnt, even, live, up, to, the, reviews...</td>\n",
       "      <td>[read, reviews, looking, buying, one, couples, lubricants, ultimately, disappointed, didnt, even, live, reviews, read, starters, neither, boyfriend, could, notice, sort, enhanced, captivating, sen...</td>\n",
       "    </tr>\n",
       "    <tr>\n",
       "      <th>4</th>\n",
       "      <td>1</td>\n",
       "      <td>my husband bought this gel for us. the gel caused irritation and it felt like it was burning my skin. i wouldn't recommend this gel.</td>\n",
       "      <td>my husband bought this gel for us the gel caused irritation and it felt like it was burning my skin i wouldnt recommend this gel</td>\n",
       "      <td>my husband bought this gel for us the gel caused irritation and it felt like it was burning my skin i wouldnt recommend this gel</td>\n",
       "      <td>[my, husband, bought, this, gel, for, us, the, gel, caused, irritation, and, it, felt, like, it, was, burning, my, skin, i, wouldnt, recommend, this, gel]</td>\n",
       "      <td>[husband, bought, gel, us, gel, caused, irritation, felt, like, burning, skin, wouldnt, recommend, gel]</td>\n",
       "    </tr>\n",
       "  </tbody>\n",
       "</table>\n",
       "</div>"
      ],
      "text/plain": [
       "   rating  \\\n",
       "0       5   \n",
       "1       5   \n",
       "2       5   \n",
       "3       1   \n",
       "4       1   \n",
       "\n",
       "                                                                                                                                                                                                   reviews  \\\n",
       "0  i love this album. it's very good. more to the hip hop side than her current pop sound.. so hype! i listen to this everyday at the gym! i give it 5star rating all the way. her metaphors are just c...   \n",
       "1                                                                                                                                           good flavor. this review was collected as part of a promotion.   \n",
       "2                                                                                                                                                                                             good flavor.   \n",
       "3  i read through the reviews on here before looking in to buying one of the couples lubricants, and was ultimately disappointed that it didn't even live up to the reviews i had read. for starters, n...   \n",
       "4                                                                     my husband bought this gel for us. the gel caused irritation and it felt like it was burning my skin. i wouldn't recommend this gel.   \n",
       "\n",
       "                                                                                                                                                                                                new_column  \\\n",
       "0         i love this album its very good more to the hip hop side than her current pop sound so hype i listen to this everyday at the gym i give it 5star rating all the way her metaphors are just crazy   \n",
       "1                                                                                                                                             good flavor this review was collected as part of a promotion   \n",
       "2                                                                                                                                                                                              good flavor   \n",
       "3  i read through the reviews on here before looking in to buying one of the couples lubricants and was ultimately disappointed that it didnt even live up to the reviews i had read for starters neith...   \n",
       "4                                                                         my husband bought this gel for us the gel caused irritation and it felt like it was burning my skin i wouldnt recommend this gel   \n",
       "\n",
       "                                                                                                                                                                                               new_cloumns  \\\n",
       "0    i love this album its very good more to the hip hop side than her current pop sound so hype i listen to this everyday at the gym i give it numberstar rating all the way her metaphors are just crazy   \n",
       "1                                                                                                                                             good flavor this review was collected as part of a promotion   \n",
       "2                                                                                                                                                                                              good flavor   \n",
       "3  i read through the reviews on here before looking in to buying one of the couples lubricants and was ultimately disappointed that it didnt even live up to the reviews i had read for starters neith...   \n",
       "4                                                                         my husband bought this gel for us the gel caused irritation and it felt like it was burning my skin i wouldnt recommend this gel   \n",
       "\n",
       "                                                                                                                                                                                                  tokenize  \\\n",
       "0  [i, love, this, album, its, very, good, more, to, the, hip, hop, side, than, her, current, pop, sound, so, hype, i, listen, to, this, everyday, at, the, gym, i, give, it, 5star, rating, all, the, ...   \n",
       "1                                                                                                                                 [good, flavor, this, review, was, collected, as, part, of, a, promotion]   \n",
       "2                                                                                                                                                                                           [good, flavor]   \n",
       "3  [i, read, through, the, reviews, on, here, before, looking, in, to, buying, one, of, the, couples, lubricants, and, was, ultimately, disappointed, that, it, didnt, even, live, up, to, the, reviews...   \n",
       "4                                               [my, husband, bought, this, gel, for, us, the, gel, caused, irritation, and, it, felt, like, it, was, burning, my, skin, i, wouldnt, recommend, this, gel]   \n",
       "\n",
       "                                                                                                                                                                                                        sw  \n",
       "0                                                                        [love, album, good, hip, hop, side, current, pop, sound, hype, listen, everyday, gym, give, 5star, rating, way, metaphors, crazy]  \n",
       "1                                                                                                                                                       [good, flavor, review, collected, part, promotion]  \n",
       "2                                                                                                                                                                                           [good, flavor]  \n",
       "3  [read, reviews, looking, buying, one, couples, lubricants, ultimately, disappointed, didnt, even, live, reviews, read, starters, neither, boyfriend, could, notice, sort, enhanced, captivating, sen...  \n",
       "4                                                                                                  [husband, bought, gel, us, gel, caused, irritation, felt, like, burning, skin, wouldnt, recommend, gel]  "
      ]
     },
     "execution_count": 18,
     "metadata": {},
     "output_type": "execute_result"
    }
   ],
   "source": [
    "def remove_stopwords(txt_tokenized):\n",
    "    txt_clean = [word for word in txt_tokenized if word not in stopwords]\n",
    "    return txt_clean\n",
    "df['sw']=df['tokenize'].apply(lambda x: remove_stopwords(x))\n",
    "df.head()"
   ]
  },
  {
   "cell_type": "markdown",
   "metadata": {},
   "source": [
    "# Lemattization"
   ]
  },
  {
   "cell_type": "code",
   "execution_count": 19,
   "metadata": {},
   "outputs": [],
   "source": [
    "from nltk.stem import WordNetLemmatizer\n",
    "wn=WordNetLemmatizer()"
   ]
  },
  {
   "cell_type": "code",
   "execution_count": 20,
   "metadata": {},
   "outputs": [
    {
     "data": {
      "text/html": [
       "<div>\n",
       "<style scoped>\n",
       "    .dataframe tbody tr th:only-of-type {\n",
       "        vertical-align: middle;\n",
       "    }\n",
       "\n",
       "    .dataframe tbody tr th {\n",
       "        vertical-align: top;\n",
       "    }\n",
       "\n",
       "    .dataframe thead th {\n",
       "        text-align: right;\n",
       "    }\n",
       "</style>\n",
       "<table border=\"1\" class=\"dataframe\">\n",
       "  <thead>\n",
       "    <tr style=\"text-align: right;\">\n",
       "      <th></th>\n",
       "      <th>rating</th>\n",
       "      <th>reviews</th>\n",
       "      <th>new_column</th>\n",
       "      <th>new_cloumns</th>\n",
       "      <th>tokenize</th>\n",
       "      <th>sw</th>\n",
       "      <th>lemmatize</th>\n",
       "    </tr>\n",
       "  </thead>\n",
       "  <tbody>\n",
       "    <tr>\n",
       "      <th>0</th>\n",
       "      <td>5</td>\n",
       "      <td>i love this album. it's very good. more to the hip hop side than her current pop sound.. so hype! i listen to this everyday at the gym! i give it 5star rating all the way. her metaphors are just c...</td>\n",
       "      <td>i love this album its very good more to the hip hop side than her current pop sound so hype i listen to this everyday at the gym i give it 5star rating all the way her metaphors are just crazy</td>\n",
       "      <td>i love this album its very good more to the hip hop side than her current pop sound so hype i listen to this everyday at the gym i give it numberstar rating all the way her metaphors are just crazy</td>\n",
       "      <td>[i, love, this, album, its, very, good, more, to, the, hip, hop, side, than, her, current, pop, sound, so, hype, i, listen, to, this, everyday, at, the, gym, i, give, it, 5star, rating, all, the, ...</td>\n",
       "      <td>[love, album, good, hip, hop, side, current, pop, sound, hype, listen, everyday, gym, give, 5star, rating, way, metaphors, crazy]</td>\n",
       "      <td>[love, album, good, hip, hop, side, current, pop, sound, hype, listen, everyday, gym, give, 5star, rating, way, metaphor, crazy]</td>\n",
       "    </tr>\n",
       "    <tr>\n",
       "      <th>1</th>\n",
       "      <td>5</td>\n",
       "      <td>good flavor. this review was collected as part of a promotion.</td>\n",
       "      <td>good flavor this review was collected as part of a promotion</td>\n",
       "      <td>good flavor this review was collected as part of a promotion</td>\n",
       "      <td>[good, flavor, this, review, was, collected, as, part, of, a, promotion]</td>\n",
       "      <td>[good, flavor, review, collected, part, promotion]</td>\n",
       "      <td>[good, flavor, review, collected, part, promotion]</td>\n",
       "    </tr>\n",
       "    <tr>\n",
       "      <th>2</th>\n",
       "      <td>5</td>\n",
       "      <td>good flavor.</td>\n",
       "      <td>good flavor</td>\n",
       "      <td>good flavor</td>\n",
       "      <td>[good, flavor]</td>\n",
       "      <td>[good, flavor]</td>\n",
       "      <td>[good, flavor]</td>\n",
       "    </tr>\n",
       "    <tr>\n",
       "      <th>3</th>\n",
       "      <td>1</td>\n",
       "      <td>i read through the reviews on here before looking in to buying one of the couples lubricants, and was ultimately disappointed that it didn't even live up to the reviews i had read. for starters, n...</td>\n",
       "      <td>i read through the reviews on here before looking in to buying one of the couples lubricants and was ultimately disappointed that it didnt even live up to the reviews i had read for starters neith...</td>\n",
       "      <td>i read through the reviews on here before looking in to buying one of the couples lubricants and was ultimately disappointed that it didnt even live up to the reviews i had read for starters neith...</td>\n",
       "      <td>[i, read, through, the, reviews, on, here, before, looking, in, to, buying, one, of, the, couples, lubricants, and, was, ultimately, disappointed, that, it, didnt, even, live, up, to, the, reviews...</td>\n",
       "      <td>[read, reviews, looking, buying, one, couples, lubricants, ultimately, disappointed, didnt, even, live, reviews, read, starters, neither, boyfriend, could, notice, sort, enhanced, captivating, sen...</td>\n",
       "      <td>[read, review, looking, buying, one, couple, lubricant, ultimately, disappointed, didnt, even, live, review, read, starter, neither, boyfriend, could, notice, sort, enhanced, captivating, sensatio...</td>\n",
       "    </tr>\n",
       "    <tr>\n",
       "      <th>4</th>\n",
       "      <td>1</td>\n",
       "      <td>my husband bought this gel for us. the gel caused irritation and it felt like it was burning my skin. i wouldn't recommend this gel.</td>\n",
       "      <td>my husband bought this gel for us the gel caused irritation and it felt like it was burning my skin i wouldnt recommend this gel</td>\n",
       "      <td>my husband bought this gel for us the gel caused irritation and it felt like it was burning my skin i wouldnt recommend this gel</td>\n",
       "      <td>[my, husband, bought, this, gel, for, us, the, gel, caused, irritation, and, it, felt, like, it, was, burning, my, skin, i, wouldnt, recommend, this, gel]</td>\n",
       "      <td>[husband, bought, gel, us, gel, caused, irritation, felt, like, burning, skin, wouldnt, recommend, gel]</td>\n",
       "      <td>[husband, bought, gel, u, gel, caused, irritation, felt, like, burning, skin, wouldnt, recommend, gel]</td>\n",
       "    </tr>\n",
       "  </tbody>\n",
       "</table>\n",
       "</div>"
      ],
      "text/plain": [
       "   rating  \\\n",
       "0       5   \n",
       "1       5   \n",
       "2       5   \n",
       "3       1   \n",
       "4       1   \n",
       "\n",
       "                                                                                                                                                                                                   reviews  \\\n",
       "0  i love this album. it's very good. more to the hip hop side than her current pop sound.. so hype! i listen to this everyday at the gym! i give it 5star rating all the way. her metaphors are just c...   \n",
       "1                                                                                                                                           good flavor. this review was collected as part of a promotion.   \n",
       "2                                                                                                                                                                                             good flavor.   \n",
       "3  i read through the reviews on here before looking in to buying one of the couples lubricants, and was ultimately disappointed that it didn't even live up to the reviews i had read. for starters, n...   \n",
       "4                                                                     my husband bought this gel for us. the gel caused irritation and it felt like it was burning my skin. i wouldn't recommend this gel.   \n",
       "\n",
       "                                                                                                                                                                                                new_column  \\\n",
       "0         i love this album its very good more to the hip hop side than her current pop sound so hype i listen to this everyday at the gym i give it 5star rating all the way her metaphors are just crazy   \n",
       "1                                                                                                                                             good flavor this review was collected as part of a promotion   \n",
       "2                                                                                                                                                                                              good flavor   \n",
       "3  i read through the reviews on here before looking in to buying one of the couples lubricants and was ultimately disappointed that it didnt even live up to the reviews i had read for starters neith...   \n",
       "4                                                                         my husband bought this gel for us the gel caused irritation and it felt like it was burning my skin i wouldnt recommend this gel   \n",
       "\n",
       "                                                                                                                                                                                               new_cloumns  \\\n",
       "0    i love this album its very good more to the hip hop side than her current pop sound so hype i listen to this everyday at the gym i give it numberstar rating all the way her metaphors are just crazy   \n",
       "1                                                                                                                                             good flavor this review was collected as part of a promotion   \n",
       "2                                                                                                                                                                                              good flavor   \n",
       "3  i read through the reviews on here before looking in to buying one of the couples lubricants and was ultimately disappointed that it didnt even live up to the reviews i had read for starters neith...   \n",
       "4                                                                         my husband bought this gel for us the gel caused irritation and it felt like it was burning my skin i wouldnt recommend this gel   \n",
       "\n",
       "                                                                                                                                                                                                  tokenize  \\\n",
       "0  [i, love, this, album, its, very, good, more, to, the, hip, hop, side, than, her, current, pop, sound, so, hype, i, listen, to, this, everyday, at, the, gym, i, give, it, 5star, rating, all, the, ...   \n",
       "1                                                                                                                                 [good, flavor, this, review, was, collected, as, part, of, a, promotion]   \n",
       "2                                                                                                                                                                                           [good, flavor]   \n",
       "3  [i, read, through, the, reviews, on, here, before, looking, in, to, buying, one, of, the, couples, lubricants, and, was, ultimately, disappointed, that, it, didnt, even, live, up, to, the, reviews...   \n",
       "4                                               [my, husband, bought, this, gel, for, us, the, gel, caused, irritation, and, it, felt, like, it, was, burning, my, skin, i, wouldnt, recommend, this, gel]   \n",
       "\n",
       "                                                                                                                                                                                                        sw  \\\n",
       "0                                                                        [love, album, good, hip, hop, side, current, pop, sound, hype, listen, everyday, gym, give, 5star, rating, way, metaphors, crazy]   \n",
       "1                                                                                                                                                       [good, flavor, review, collected, part, promotion]   \n",
       "2                                                                                                                                                                                           [good, flavor]   \n",
       "3  [read, reviews, looking, buying, one, couples, lubricants, ultimately, disappointed, didnt, even, live, reviews, read, starters, neither, boyfriend, could, notice, sort, enhanced, captivating, sen...   \n",
       "4                                                                                                  [husband, bought, gel, us, gel, caused, irritation, felt, like, burning, skin, wouldnt, recommend, gel]   \n",
       "\n",
       "                                                                                                                                                                                                 lemmatize  \n",
       "0                                                                         [love, album, good, hip, hop, side, current, pop, sound, hype, listen, everyday, gym, give, 5star, rating, way, metaphor, crazy]  \n",
       "1                                                                                                                                                       [good, flavor, review, collected, part, promotion]  \n",
       "2                                                                                                                                                                                           [good, flavor]  \n",
       "3  [read, review, looking, buying, one, couple, lubricant, ultimately, disappointed, didnt, even, live, review, read, starter, neither, boyfriend, could, notice, sort, enhanced, captivating, sensatio...  \n",
       "4                                                                                                   [husband, bought, gel, u, gel, caused, irritation, felt, like, burning, skin, wouldnt, recommend, gel]  "
      ]
     },
     "execution_count": 20,
     "metadata": {},
     "output_type": "execute_result"
    }
   ],
   "source": [
    "def lemmatization(token_txt):\n",
    "    text = [wn.lemmatize(word) for word in token_txt]\n",
    "    \n",
    "    return text\n",
    "\n",
    "df['lemmatize']= df['sw'].apply(lambda x : lemmatization(x))\n",
    "df.head()"
   ]
  },
  {
   "cell_type": "code",
   "execution_count": 21,
   "metadata": {},
   "outputs": [
    {
     "data": {
      "text/plain": [
       "rating         0\n",
       "reviews        0\n",
       "new_column     0\n",
       "new_cloumns    0\n",
       "tokenize       0\n",
       "sw             0\n",
       "lemmatize      0\n",
       "dtype: int64"
      ]
     },
     "execution_count": 21,
     "metadata": {},
     "output_type": "execute_result"
    }
   ],
   "source": [
    "df.isna().sum()"
   ]
  },
  {
   "cell_type": "code",
   "execution_count": 22,
   "metadata": {},
   "outputs": [
    {
     "name": "stdout",
     "output_type": "stream",
     "text": [
      "<class 'pandas.core.frame.DataFrame'>\n",
      "Int64Index: 71008 entries, 0 to 71043\n",
      "Data columns (total 7 columns):\n",
      " #   Column       Non-Null Count  Dtype \n",
      "---  ------       --------------  ----- \n",
      " 0   rating       71008 non-null  int32 \n",
      " 1   reviews      71008 non-null  object\n",
      " 2   new_column   71008 non-null  object\n",
      " 3   new_cloumns  71008 non-null  object\n",
      " 4   tokenize     71008 non-null  object\n",
      " 5   sw           71008 non-null  object\n",
      " 6   lemmatize    71008 non-null  object\n",
      "dtypes: int32(1), object(6)\n",
      "memory usage: 4.1+ MB\n"
     ]
    }
   ],
   "source": [
    "df.info() #provides info of null fields"
   ]
  },
  {
   "cell_type": "code",
   "execution_count": null,
   "metadata": {},
   "outputs": [],
   "source": []
  },
  {
   "cell_type": "markdown",
   "metadata": {},
   "source": [
    "# Splitting Dataset for Training and Testing "
   ]
  },
  {
   "cell_type": "code",
   "execution_count": 23,
   "metadata": {},
   "outputs": [],
   "source": [
    "# Split the dataset into features data and target data\n",
    "\n",
    "y = df['rating']\n",
    "X = df['lemmatize']"
   ]
  },
  {
   "cell_type": "code",
   "execution_count": 24,
   "metadata": {},
   "outputs": [],
   "source": [
    "#Split the dataset again, into 70% training dataset and 30% twsting dataset\n",
    "\n",
    "from sklearn.model_selection import train_test_split\n",
    "X_train, X_test, y_train, y_test = train_test_split(X,y,test_size=0.3,random_state=1)"
   ]
  },
  {
   "cell_type": "code",
   "execution_count": 25,
   "metadata": {},
   "outputs": [
    {
     "data": {
      "text/plain": [
       "49705"
      ]
     },
     "execution_count": 25,
     "metadata": {},
     "output_type": "execute_result"
    }
   ],
   "source": [
    "len(X_train)"
   ]
  },
  {
   "cell_type": "code",
   "execution_count": 26,
   "metadata": {},
   "outputs": [
    {
     "data": {
      "text/plain": [
       "21303"
      ]
     },
     "execution_count": 26,
     "metadata": {},
     "output_type": "execute_result"
    }
   ],
   "source": [
    "len(X_test)"
   ]
  },
  {
   "cell_type": "code",
   "execution_count": 27,
   "metadata": {},
   "outputs": [
    {
     "name": "stdout",
     "output_type": "stream",
     "text": [
      "39356                                                                                                                   [cute, movie, son, siding, song, dont, particularly, like, hearing, 5, year, old, voice]\n",
      "20627                                                                                                                                                              [great, product, smell, wonderful, use, time]\n",
      "51005                                                                                                               [another, reason, shopped, line, free, shipping, house, step, walmart, people, change, life]\n",
      "61392                                                                                                                                                                                            [walking, well]\n",
      "52339                                                [quite, excited, try, product, heard, great, thing, used, day, ended, skin, reaction, unfortunate, gave, product, 1, 5, review, collected, part, promotion]\n",
      "                                                                                                          ...                                                                                                   \n",
      "49129                            [ilove, tide, grew, tide, childso, year, tide, changed, irelly, enjoy, tide, keep, timesit, refreshing, seeall, latest, improvement, year, relly, kept, time, keep, great, job]\n",
      "20616                                                                                                                                                              [product, clean, fantastically, smell, great]\n",
      "21447                                                                                                         [used, prior, product, many, year, terrible, doesnt, work, smell, horrible, switch, back, 0, star]\n",
      "50086    [saved, particularly, brutalized, tshirt, 6, year, old, put, rigor, family, gardening, day, try, tide, pod, sample, red, clay, grass, stain, minor, boo, boo, blood, come, convenience, dropping, po...\n",
      "5194                                                                                                                       [best, five, movie, ever, seen, loved, would, recommend, anyone, love, zombie, movie]\n",
      "Name: lemmatize, Length: 49705, dtype: object\n"
     ]
    }
   ],
   "source": [
    "print(X_train)"
   ]
  },
  {
   "cell_type": "markdown",
   "metadata": {},
   "source": [
    "# Feature Extraction"
   ]
  },
  {
   "cell_type": "code",
   "execution_count": 28,
   "metadata": {},
   "outputs": [
    {
     "name": "stdout",
     "output_type": "stream",
     "text": [
      "CountVectorizer(analyzer=<function lemmatization at 0x0000029F622D1438>,\n",
      "                binary=False, decode_error='strict',\n",
      "                dtype=<class 'numpy.int64'>, encoding='utf-8', input='content',\n",
      "                lowercase=True, max_df=1.0, max_features=None, min_df=1,\n",
      "                ngram_range=(1, 1), preprocessor=None, stop_words=None,\n",
      "                strip_accents=None, token_pattern='(?u)\\\\b\\\\w\\\\w+\\\\b',\n",
      "                tokenizer=None, vocabulary=None)\n"
     ]
    }
   ],
   "source": [
    "from sklearn.feature_extraction.text import CountVectorizer\n",
    "Count_Vectorizer = CountVectorizer(analyzer = lemmatization)\n",
    "\n",
    "print(Count_Vectorizer)\n"
   ]
  },
  {
   "cell_type": "code",
   "execution_count": 29,
   "metadata": {},
   "outputs": [
    {
     "name": "stdout",
     "output_type": "stream",
     "text": [
      "[[0 0 0 ... 0 0 0]\n",
      " [0 0 0 ... 0 0 0]\n",
      " [0 0 0 ... 0 0 0]\n",
      " ...\n",
      " [0 1 0 ... 0 0 0]\n",
      " [0 0 0 ... 0 0 0]\n",
      " [0 0 0 ... 0 0 0]]\n"
     ]
    }
   ],
   "source": [
    "from sklearn.feature_extraction.text import CountVectorizer\n",
    "Count_Vectorizer = CountVectorizer(analyzer = lemmatization)\n",
    "\n",
    "training_data = Count_Vectorizer.fit_transform(X_train)\n",
    "#testing_data = Count_Vectorizer.transform(X_test)\n",
    "training_data_toarray= training_data.toarray()\n",
    "print(training_data_toarray)\n"
   ]
  },
  {
   "cell_type": "code",
   "execution_count": 30,
   "metadata": {},
   "outputs": [],
   "source": [
    "from sklearn.feature_extraction.text import TfidfTransformer\n",
    "tfidf_transformer = TfidfTransformer()\n",
    "X_train_tfidf = tfidf_transformer.fit_transform(training_data)"
   ]
  },
  {
   "cell_type": "code",
   "execution_count": 31,
   "metadata": {},
   "outputs": [],
   "source": [
    "testing_data = Count_Vectorizer.transform(X_test)\n",
    "#X_test_tfidf=tfidf_transformer.fit_transform(testing_data)--->fit_transform() is not applied on testing part but transform() is used.\n",
    "X_test_tfidf=tfidf_transformer.transform(testing_data)"
   ]
  },
  {
   "cell_type": "code",
   "execution_count": 32,
   "metadata": {},
   "outputs": [
    {
     "data": {
      "text/plain": [
       "(49705, 27202)"
      ]
     },
     "execution_count": 32,
     "metadata": {},
     "output_type": "execute_result"
    }
   ],
   "source": [
    "X_train_tfidf.shape"
   ]
  },
  {
   "cell_type": "code",
   "execution_count": 33,
   "metadata": {},
   "outputs": [
    {
     "data": {
      "text/plain": [
       "(21303, 27202)"
      ]
     },
     "execution_count": 33,
     "metadata": {},
     "output_type": "execute_result"
    }
   ],
   "source": [
    "X_test_tfidf.shape"
   ]
  },
  {
   "cell_type": "code",
   "execution_count": 34,
   "metadata": {},
   "outputs": [],
   "source": [
    "# #There are five preset seaborn themes: darkgrid, whitegrid, dark, white, and ticks.\n",
    "\n",
    "# sns.set_style('whitegrid')\n",
    "# sns.countplot(x='X_train_tfidf',data=df, palette='RdBu_r')"
   ]
  },
  {
   "cell_type": "markdown",
   "metadata": {},
   "source": [
    "# Implementing the Naive Bayes model "
   ]
  },
  {
   "cell_type": "code",
   "execution_count": 35,
   "metadata": {},
   "outputs": [
    {
     "data": {
      "text/plain": [
       "MultinomialNB(alpha=1.0, class_prior=None, fit_prior=True)"
      ]
     },
     "execution_count": 35,
     "metadata": {},
     "output_type": "execute_result"
    }
   ],
   "source": [
    "from sklearn.naive_bayes import MultinomialNB\n",
    "MultinomialNB = MultinomialNB().fit(X_train_tfidf, y_train)\n",
    "MultinomialNB.fit(X_train_tfidf,y_train)\n"
   ]
  },
  {
   "cell_type": "markdown",
   "metadata": {},
   "source": [
    "# Testing the model accuracy  in a training dataset"
   ]
  },
  {
   "cell_type": "code",
   "execution_count": 36,
   "metadata": {},
   "outputs": [
    {
     "name": "stdout",
     "output_type": "stream",
     "text": [
      "Accuracy on the training dataset:  0.6725279146967106\n"
     ]
    }
   ],
   "source": [
    "\n",
    "MultinomialNB.score(X_train_tfidf, y_train)\n",
    "print(\"Accuracy on the training dataset: \", MultinomialNB.score(X_train_tfidf, y_train))"
   ]
  },
  {
   "cell_type": "markdown",
   "metadata": {},
   "source": [
    "# Testing the model accuracy  in a test dataset"
   ]
  },
  {
   "cell_type": "code",
   "execution_count": 37,
   "metadata": {},
   "outputs": [],
   "source": [
    "testing_data = Count_Vectorizer.transform(X_test)\n",
    "X_test_tfidf=tfidf_transformer.transform(testing_data)\n",
    "\n",
    "predict1= MultinomialNB.predict(X_test_tfidf)"
   ]
  },
  {
   "cell_type": "code",
   "execution_count": 38,
   "metadata": {},
   "outputs": [
    {
     "name": "stdout",
     "output_type": "stream",
     "text": [
      "              precision    recall  f1-score   support\n",
      "\n",
      "           1       0.92      0.09      0.16      1159\n",
      "           2       0.00      0.00      0.00       531\n",
      "           3       0.67      0.00      0.00      1334\n",
      "           4       0.36      0.02      0.04      4344\n",
      "           5       0.66      1.00      0.80     13935\n",
      "\n",
      "    accuracy                           0.66     21303\n",
      "   macro avg       0.52      0.22      0.20     21303\n",
      "weighted avg       0.60      0.66      0.54     21303\n",
      "\n"
     ]
    },
    {
     "name": "stderr",
     "output_type": "stream",
     "text": [
      "C:\\ProgramData\\Anaconda3\\lib\\site-packages\\sklearn\\metrics\\_classification.py:1272: UndefinedMetricWarning: Precision and F-score are ill-defined and being set to 0.0 in labels with no predicted samples. Use `zero_division` parameter to control this behavior.\n",
      "  _warn_prf(average, modifier, msg_start, len(result))\n"
     ]
    }
   ],
   "source": [
    "from sklearn import metrics\n",
    "print(metrics.classification_report(y_test,  predict1))"
   ]
  },
  {
   "cell_type": "code",
   "execution_count": 39,
   "metadata": {},
   "outputs": [
    {
     "name": "stdout",
     "output_type": "stream",
     "text": [
      "Model Accuracy on test dataset:  0.6604703562878468\n"
     ]
    }
   ],
   "source": [
    "from sklearn.metrics import accuracy_score\n",
    "accuracy_score = accuracy_score(y_test, predict1)\n",
    "\n",
    "print(\"Model Accuracy on test dataset: \", accuracy_score)\n"
   ]
  },
  {
   "cell_type": "code",
   "execution_count": 40,
   "metadata": {},
   "outputs": [
    {
     "name": "stdout",
     "output_type": "stream",
     "text": [
      "[[  103     0     0     4  1052]\n",
      " [    5     0     0    14   512]\n",
      " [    2     0     2    73  1257]\n",
      " [    2     0     1    82  4259]\n",
      " [    0     0     0    52 13883]]\n"
     ]
    }
   ],
   "source": [
    "print(metrics.confusion_matrix(y_test, predict1))"
   ]
  },
  {
   "cell_type": "code",
   "execution_count": 41,
   "metadata": {},
   "outputs": [],
   "source": [
    "#from sklearn.metrics import accuracy_score, precision_score, recall_score\n",
    "\n",
    "#print(\"Accuracy : \", accuracy_score(y_test, MultinomialNB.predict(X_test_tfidf)))\n",
    "#print(\"Precision : \", precision_score(y_test, MultinomialNB.predict(X_test_tfidf)))\n",
    "#print(\"Recall : \", recall_score(y_test, MultinomialNB.predict(X_test_tfidf)))\n"
   ]
  },
  {
   "cell_type": "markdown",
   "metadata": {},
   "source": [
    "# Checking for real world  input"
   ]
  },
  {
   "cell_type": "code",
   "execution_count": 42,
   "metadata": {},
   "outputs": [
    {
     "name": "stdout",
     "output_type": "stream",
     "text": [
      "[5 5]\n"
     ]
    }
   ],
   "source": [
    "doc1 = ['This product so far has not disappointed', 'electronics product are bad']\n",
    "doc1_counts = Count_Vectorizer.transform(doc1)\n",
    "doc1_tfidf=tfidf_transformer.transform(doc1_counts)\n",
    "predicted= MultinomialNB.predict(doc1_tfidf)\n",
    "print(predicted)"
   ]
  },
  {
   "cell_type": "markdown",
   "metadata": {},
   "source": [
    "# Applying CV"
   ]
  },
  {
   "cell_type": "code",
   "execution_count": 43,
   "metadata": {},
   "outputs": [],
   "source": [
    "#from sklearn.model_selection import cross_val_score\n",
    "#score=cross_val_score(clf,X,y,cv=5)"
   ]
  },
  {
   "cell_type": "code",
   "execution_count": 44,
   "metadata": {},
   "outputs": [],
   "source": [
    "#score.mean()"
   ]
  },
  {
   "cell_type": "code",
   "execution_count": null,
   "metadata": {},
   "outputs": [],
   "source": []
  },
  {
   "cell_type": "markdown",
   "metadata": {},
   "source": [
    "# Implementing the Support Vector Machine(svm) model and fitting the taining dataset"
   ]
  },
  {
   "cell_type": "code",
   "execution_count": 45,
   "metadata": {},
   "outputs": [],
   "source": [
    "from sklearn.svm import SVC\n",
    "svc = SVC()\n",
    "svc.fit(X_train_tfidf, y_train)"
   ]
  },
  {
   "cell_type": "markdown",
   "metadata": {},
   "source": [
    "# Testing the model accuracy  in a training dataset"
   ]
  },
  {
   "cell_type": "code",
   "execution_count": 46,
   "metadata": {},
   "outputs": [],
   "source": [
    "\n",
    "#SVC.score(X_train_tfidf, y_train)\n",
    "print(\"Accuracy on the training dataset: \", SVC.score(X_train_tfidf, y_train))"
   ]
  },
  {
   "cell_type": "markdown",
   "metadata": {},
   "source": [
    "# Testing the model accuracy  in a training dataset"
   ]
  },
  {
   "cell_type": "code",
   "execution_count": 47,
   "metadata": {},
   "outputs": [],
   "source": [
    "testing_data = Count_Vectorizer.transform(X_test)\n",
    "X_test_tfidf=tfidf_transformer.fit_transform(testing_data)\n",
    "\n",
    "predict2= svc.predict(X_test_tfidf)"
   ]
  },
  {
   "cell_type": "code",
   "execution_count": 48,
   "metadata": {},
   "outputs": [],
   "source": [
    "from sklearn import metrics\n",
    "print(metrics.classification_report(y_test,  predict2))"
   ]
  },
  {
   "cell_type": "code",
   "execution_count": 49,
   "metadata": {},
   "outputs": [],
   "source": [
    "from sklearn.metrics import accuracy_score\n",
    "print(\"Accuracy score: \", accuracy_score(y_test, predict2(X_test_tfidf)))\n"
   ]
  },
  {
   "cell_type": "code",
   "execution_count": 50,
   "metadata": {},
   "outputs": [],
   "source": [
    "#from sklearn.metrics import accuracy_score, precision_score, recall_score\n",
    "\n",
    "#print(\"Accuracy : \", accuracy_score(y_test, predict2(X_test_tfidf)))\n",
    "#print(\"Precision : \", precision_score(y_test, predict2(X_test_tfidf)))\n",
    "#print(\"Recall : \", recall_score(y_test, predict2(X_test_tfidf)))\n",
    "\n"
   ]
  },
  {
   "cell_type": "markdown",
   "metadata": {},
   "source": [
    "# Checking for real world  input"
   ]
  },
  {
   "cell_type": "code",
   "execution_count": 51,
   "metadata": {},
   "outputs": [],
   "source": [
    "doc2 = ['This product so far has not disappointed', 'electronics product are bad']\n",
    "doc2_counts = Count_Vectorizer.transform(doc2)\n",
    "doc2_tfidf=tfidf_transformer.transform(doc2_counts)\n",
    "predicted= svc.predict(doc2_tfidf)\n",
    "print(predicted)"
   ]
  },
  {
   "cell_type": "markdown",
   "metadata": {},
   "source": [
    "# Implementing the LogisticRegression Algorithm and fitting the taining dataset"
   ]
  },
  {
   "cell_type": "code",
   "execution_count": 52,
   "metadata": {},
   "outputs": [
    {
     "name": "stderr",
     "output_type": "stream",
     "text": [
      "C:\\ProgramData\\Anaconda3\\lib\\site-packages\\sklearn\\linear_model\\_logistic.py:940: ConvergenceWarning: lbfgs failed to converge (status=1):\n",
      "STOP: TOTAL NO. of ITERATIONS REACHED LIMIT.\n",
      "\n",
      "Increase the number of iterations (max_iter) or scale the data as shown in:\n",
      "    https://scikit-learn.org/stable/modules/preprocessing.html\n",
      "Please also refer to the documentation for alternative solver options:\n",
      "    https://scikit-learn.org/stable/modules/linear_model.html#logistic-regression\n",
      "  extra_warning_msg=_LOGISTIC_SOLVER_CONVERGENCE_MSG)\n"
     ]
    },
    {
     "data": {
      "text/plain": [
       "LogisticRegression(C=1.0, class_weight=None, dual=False, fit_intercept=True,\n",
       "                   intercept_scaling=1, l1_ratio=None, max_iter=100,\n",
       "                   multi_class='auto', n_jobs=None, penalty='l2',\n",
       "                   random_state=None, solver='lbfgs', tol=0.0001, verbose=0,\n",
       "                   warm_start=False)"
      ]
     },
     "execution_count": 52,
     "metadata": {},
     "output_type": "execute_result"
    }
   ],
   "source": [
    "from sklearn.linear_model import LogisticRegression\n",
    "LogisticRegression = LogisticRegression()\n",
    "LogisticRegression.fit(X_train_tfidf, y_train)"
   ]
  },
  {
   "cell_type": "markdown",
   "metadata": {},
   "source": [
    "# Testing the model accuracy  in a training dataset"
   ]
  },
  {
   "cell_type": "code",
   "execution_count": 53,
   "metadata": {},
   "outputs": [
    {
     "name": "stdout",
     "output_type": "stream",
     "text": [
      "Accuracy on the training dataset:  0.7556785031686953\n"
     ]
    }
   ],
   "source": [
    "\n",
    "LogisticRegression.score(X_train_tfidf, y_train)\n",
    "print(\"Accuracy on the training dataset: \", LogisticRegression.score(X_train_tfidf, y_train))"
   ]
  },
  {
   "cell_type": "markdown",
   "metadata": {},
   "source": [
    "# Testing the model accuracy  in a test dataset"
   ]
  },
  {
   "cell_type": "code",
   "execution_count": 54,
   "metadata": {},
   "outputs": [],
   "source": [
    "testing_data = Count_Vectorizer.transform(X_test)\n",
    "#X_test_tfidf=tfidf_transformer.fit_transform(testing_data)\n",
    "X_test_tfidf=tfidf_transformer.transform(testing_data)\n",
    "\n",
    "predict3= LogisticRegression.predict(X_test_tfidf)"
   ]
  },
  {
   "cell_type": "code",
   "execution_count": 55,
   "metadata": {},
   "outputs": [
    {
     "name": "stdout",
     "output_type": "stream",
     "text": [
      "              precision    recall  f1-score   support\n",
      "\n",
      "           1       0.72      0.63      0.67      1159\n",
      "           2       0.43      0.06      0.11       531\n",
      "           3       0.45      0.17      0.25      1334\n",
      "           4       0.42      0.21      0.28      4344\n",
      "           5       0.75      0.94      0.83     13935\n",
      "\n",
      "    accuracy                           0.71     21303\n",
      "   macro avg       0.56      0.40      0.43     21303\n",
      "weighted avg       0.65      0.71      0.66     21303\n",
      "\n"
     ]
    }
   ],
   "source": [
    "from sklearn import metrics\n",
    "print(metrics.classification_report(y_test,  predict3))"
   ]
  },
  {
   "cell_type": "code",
   "execution_count": 56,
   "metadata": {},
   "outputs": [
    {
     "name": "stdout",
     "output_type": "stream",
     "text": [
      "Accuracy score:  0.7061446744589964\n"
     ]
    }
   ],
   "source": [
    "from sklearn.metrics import accuracy_score\n",
    "print(\"Accuracy score: \", accuracy_score(y_test, predict3))\n"
   ]
  },
  {
   "cell_type": "code",
   "execution_count": 57,
   "metadata": {},
   "outputs": [
    {
     "name": "stdout",
     "output_type": "stream",
     "text": [
      "[[  730    20    39    45   325]\n",
      " [  124    33    66    87   221]\n",
      " [   75    10   224   410   615]\n",
      " [   39     8   122   924  3251]\n",
      " [   43     5    42   713 13132]]\n"
     ]
    }
   ],
   "source": [
    "print(metrics.confusion_matrix(y_test, predict3))"
   ]
  },
  {
   "cell_type": "markdown",
   "metadata": {},
   "source": [
    "# Checking for real world  input"
   ]
  },
  {
   "cell_type": "code",
   "execution_count": 58,
   "metadata": {},
   "outputs": [
    {
     "name": "stdout",
     "output_type": "stream",
     "text": [
      "[5 5]\n"
     ]
    }
   ],
   "source": [
    "doc3 = ['This product so far has not disappointed', 'electronics product are bad']\n",
    "doc3_counts = Count_Vectorizer.transform(doc3)\n",
    "doc3_tfidf=tfidf_transformer.transform(doc3_counts)\n",
    "predicted= LogisticRegression.predict(doc3_tfidf)\n",
    "print(predicted)"
   ]
  },
  {
   "cell_type": "code",
   "execution_count": null,
   "metadata": {},
   "outputs": [],
   "source": []
  },
  {
   "cell_type": "code",
   "execution_count": null,
   "metadata": {},
   "outputs": [],
   "source": []
  }
 ],
 "metadata": {
  "kernelspec": {
   "display_name": "Python 3",
   "language": "python",
   "name": "python3"
  },
  "language_info": {
   "codemirror_mode": {
    "name": "ipython",
    "version": 3
   },
   "file_extension": ".py",
   "mimetype": "text/x-python",
   "name": "python",
   "nbconvert_exporter": "python",
   "pygments_lexer": "ipython3",
   "version": "3.7.6"
  }
 },
 "nbformat": 4,
 "nbformat_minor": 4
}
