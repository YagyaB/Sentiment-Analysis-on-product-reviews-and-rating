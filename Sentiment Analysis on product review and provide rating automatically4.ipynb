{
 "cells": [
  {
   "cell_type": "markdown",
   "metadata": {},
   "source": [
    "# Import all necessary libraries"
   ]
  },
  {
   "cell_type": "code",
   "execution_count": 1,
   "metadata": {},
   "outputs": [],
   "source": [
    "import nltk\n",
    "import numpy as np\n",
    "\n",
    "import pandas as pd\n",
    "from matplotlib import pyplot as plt\n",
    "%matplotlib inline\n",
    "import seaborn as sns\n",
    "import re\n",
    "import warnings\n",
    "warnings.filterwarnings('ignore')\n",
    "#nltk.download('stopwords')\n",
    "#nltk.download('wordnet')\n"
   ]
  },
  {
   "cell_type": "markdown",
   "metadata": {},
   "source": [
    "# To read the csv file using pandas library"
   ]
  },
  {
   "cell_type": "code",
   "execution_count": 2,
   "metadata": {},
   "outputs": [
    {
     "data": {
      "text/html": [
       "<div>\n",
       "<style scoped>\n",
       "    .dataframe tbody tr th:only-of-type {\n",
       "        vertical-align: middle;\n",
       "    }\n",
       "\n",
       "    .dataframe tbody tr th {\n",
       "        vertical-align: top;\n",
       "    }\n",
       "\n",
       "    .dataframe thead th {\n",
       "        text-align: right;\n",
       "    }\n",
       "</style>\n",
       "<table border=\"1\" class=\"dataframe\">\n",
       "  <thead>\n",
       "    <tr style=\"text-align: right;\">\n",
       "      <th></th>\n",
       "      <th>rating</th>\n",
       "      <th>reviews</th>\n",
       "    </tr>\n",
       "  </thead>\n",
       "  <tbody>\n",
       "    <tr>\n",
       "      <th>0</th>\n",
       "      <td>5</td>\n",
       "      <td>i love this album. it's very good. more to the hip hop side than her current pop sound.. SO HYPE...</td>\n",
       "    </tr>\n",
       "    <tr>\n",
       "      <th>1</th>\n",
       "      <td>5</td>\n",
       "      <td>Good flavor. This review was collected as part of a promotion.</td>\n",
       "    </tr>\n",
       "    <tr>\n",
       "      <th>2</th>\n",
       "      <td>5</td>\n",
       "      <td>Good flavor.</td>\n",
       "    </tr>\n",
       "    <tr>\n",
       "      <th>3</th>\n",
       "      <td>1</td>\n",
       "      <td>I read through the reviews on here before looking in to buying one of the couples lubricants, an...</td>\n",
       "    </tr>\n",
       "    <tr>\n",
       "      <th>4</th>\n",
       "      <td>1</td>\n",
       "      <td>My husband bought this gel for us. The gel caused irritation and it felt like it was burning my ...</td>\n",
       "    </tr>\n",
       "  </tbody>\n",
       "</table>\n",
       "</div>"
      ],
      "text/plain": [
       "   rating  \\\n",
       "0       5   \n",
       "1       5   \n",
       "2       5   \n",
       "3       1   \n",
       "4       1   \n",
       "\n",
       "                                                                                               reviews  \n",
       "0  i love this album. it's very good. more to the hip hop side than her current pop sound.. SO HYPE...  \n",
       "1                                       Good flavor. This review was collected as part of a promotion.  \n",
       "2                                                                                         Good flavor.  \n",
       "3  I read through the reviews on here before looking in to buying one of the couples lubricants, an...  \n",
       "4  My husband bought this gel for us. The gel caused irritation and it felt like it was burning my ...  "
      ]
     },
     "execution_count": 2,
     "metadata": {},
     "output_type": "execute_result"
    }
   ],
   "source": [
    "import pandas as pd\n",
    "pd.set_option('display.max_colwidth',100)\n",
    "df=pd.read_csv(r\"C:\\Users\\DELL\\GrammarandProductReviews.csv\",encoding='UTF-8',sep=',')\n",
    "\n",
    "df.head()"
   ]
  },
  {
   "cell_type": "code",
   "execution_count": 3,
   "metadata": {},
   "outputs": [
    {
     "data": {
      "text/plain": [
       "(71044, 2)"
      ]
     },
     "execution_count": 3,
     "metadata": {},
     "output_type": "execute_result"
    }
   ],
   "source": [
    "df.shape"
   ]
  },
  {
   "cell_type": "markdown",
   "metadata": {},
   "source": [
    "# To count how many rating of each rating class"
   ]
  },
  {
   "cell_type": "code",
   "execution_count": 4,
   "metadata": {},
   "outputs": [
    {
     "data": {
      "text/plain": [
       "5    46543\n",
       "4    14598\n",
       "3     4369\n",
       "1     3701\n",
       "2     1833\n",
       "Name: rating, dtype: int64"
      ]
     },
     "execution_count": 4,
     "metadata": {},
     "output_type": "execute_result"
    }
   ],
   "source": [
    "df['rating'].value_counts()"
   ]
  },
  {
   "cell_type": "markdown",
   "metadata": {},
   "source": [
    "# Exploratory data analysis (EDA)\n",
    "EDA is done to analysis data and visualize data in different bar-chart and graphs."
   ]
  },
  {
   "cell_type": "markdown",
   "metadata": {},
   "source": [
    "# Visualize the count of rating"
   ]
  },
  {
   "cell_type": "code",
   "execution_count": 5,
   "metadata": {},
   "outputs": [
    {
     "data": {
      "text/plain": [
       "<matplotlib.axes._subplots.AxesSubplot at 0x26ac5af6e88>"
      ]
     },
     "execution_count": 5,
     "metadata": {},
     "output_type": "execute_result"
    },
    {
     "data": {
      "image/png": "[encoded data removed]",
      "text/plain": [
       "<Figure size 432x288 with 1 Axes>"
      ]
     },
     "metadata": {},
     "output_type": "display_data"
    }
   ],
   "source": [
    "sns.set_style('whitegrid')\n",
    "sns.countplot(df['rating'])"
   ]
  },
  {
   "cell_type": "markdown",
   "metadata": {},
   "source": [
    "# Missing Values\n",
    "We can use seaborn to create a simple heatmap to see wherewe are missing data."
   ]
  },
  {
   "cell_type": "code",
   "execution_count": 6,
   "metadata": {},
   "outputs": [
    {
     "data": {
      "text/plain": [
       "<matplotlib.axes._subplots.AxesSubplot at 0x26ac64eb1c8>"
      ]
     },
     "execution_count": 6,
     "metadata": {},
     "output_type": "execute_result"
    },
    {
     "data": {
      "image/png": "[encoded data removed]",
      "text/plain": [
       "<Figure size 432x288 with 2 Axes>"
      ]
     },
     "metadata": {},
     "output_type": "display_data"
    }
   ],
   "source": [
    "sns.heatmap(df.isnull(),yticklabels=False,cbar=True,cmap='viridis')"
   ]
  },
  {
   "cell_type": "code",
   "execution_count": 7,
   "metadata": {},
   "outputs": [
    {
     "data": {
      "text/html": [
       "<div>\n",
       "<style scoped>\n",
       "    .dataframe tbody tr th:only-of-type {\n",
       "        vertical-align: middle;\n",
       "    }\n",
       "\n",
       "    .dataframe tbody tr th {\n",
       "        vertical-align: top;\n",
       "    }\n",
       "\n",
       "    .dataframe thead th {\n",
       "        text-align: right;\n",
       "    }\n",
       "</style>\n",
       "<table border=\"1\" class=\"dataframe\">\n",
       "  <thead>\n",
       "    <tr style=\"text-align: right;\">\n",
       "      <th></th>\n",
       "      <th>rating</th>\n",
       "      <th>reviews</th>\n",
       "    </tr>\n",
       "  </thead>\n",
       "  <tbody>\n",
       "    <tr>\n",
       "      <th>0</th>\n",
       "      <td>False</td>\n",
       "      <td>False</td>\n",
       "    </tr>\n",
       "    <tr>\n",
       "      <th>1</th>\n",
       "      <td>False</td>\n",
       "      <td>False</td>\n",
       "    </tr>\n",
       "    <tr>\n",
       "      <th>2</th>\n",
       "      <td>False</td>\n",
       "      <td>False</td>\n",
       "    </tr>\n",
       "    <tr>\n",
       "      <th>3</th>\n",
       "      <td>False</td>\n",
       "      <td>False</td>\n",
       "    </tr>\n",
       "    <tr>\n",
       "      <th>4</th>\n",
       "      <td>False</td>\n",
       "      <td>False</td>\n",
       "    </tr>\n",
       "    <tr>\n",
       "      <th>...</th>\n",
       "      <td>...</td>\n",
       "      <td>...</td>\n",
       "    </tr>\n",
       "    <tr>\n",
       "      <th>71039</th>\n",
       "      <td>False</td>\n",
       "      <td>False</td>\n",
       "    </tr>\n",
       "    <tr>\n",
       "      <th>71040</th>\n",
       "      <td>False</td>\n",
       "      <td>False</td>\n",
       "    </tr>\n",
       "    <tr>\n",
       "      <th>71041</th>\n",
       "      <td>False</td>\n",
       "      <td>False</td>\n",
       "    </tr>\n",
       "    <tr>\n",
       "      <th>71042</th>\n",
       "      <td>False</td>\n",
       "      <td>False</td>\n",
       "    </tr>\n",
       "    <tr>\n",
       "      <th>71043</th>\n",
       "      <td>False</td>\n",
       "      <td>False</td>\n",
       "    </tr>\n",
       "  </tbody>\n",
       "</table>\n",
       "<p>71044 rows × 2 columns</p>\n",
       "</div>"
      ],
      "text/plain": [
       "       rating  reviews\n",
       "0       False    False\n",
       "1       False    False\n",
       "2       False    False\n",
       "3       False    False\n",
       "4       False    False\n",
       "...       ...      ...\n",
       "71039   False    False\n",
       "71040   False    False\n",
       "71041   False    False\n",
       "71042   False    False\n",
       "71043   False    False\n",
       "\n",
       "[71044 rows x 2 columns]"
      ]
     },
     "execution_count": 7,
     "metadata": {},
     "output_type": "execute_result"
    }
   ],
   "source": [
    "#To check where the null value if it show true then that is null value, if false then no null value.\n",
    "\n",
    "df.isnull()"
   ]
  },
  {
   "cell_type": "code",
   "execution_count": 8,
   "metadata": {},
   "outputs": [
    {
     "data": {
      "text/plain": [
       "rating      0\n",
       "reviews    36\n",
       "dtype: int64"
      ]
     },
     "execution_count": 8,
     "metadata": {},
     "output_type": "execute_result"
    }
   ],
   "source": [
    "#Another way to check the missing data/Count the empty values in each column.\n",
    "\n",
    "\n",
    "df.isna().sum()"
   ]
  },
  {
   "cell_type": "markdown",
   "metadata": {},
   "source": [
    "In above, we find there are 36 data are missing in reviews columns.So, we have to remove these null in the below preprossing step to get better model accuracy. "
   ]
  },
  {
   "cell_type": "code",
   "execution_count": 9,
   "metadata": {},
   "outputs": [
    {
     "name": "stdout",
     "output_type": "stream",
     "text": [
      "<class 'pandas.core.frame.DataFrame'>\n",
      "RangeIndex: 71044 entries, 0 to 71043\n",
      "Data columns (total 2 columns):\n",
      " #   Column   Non-Null Count  Dtype \n",
      "---  ------   --------------  ----- \n",
      " 0   rating   71044 non-null  int64 \n",
      " 1   reviews  71008 non-null  object\n",
      "dtypes: int64(1), object(1)\n",
      "memory usage: 1.1+ MB\n"
     ]
    }
   ],
   "source": [
    "#To get more information about dataset\n",
    "\n",
    "df.info()"
   ]
  },
  {
   "cell_type": "code",
   "execution_count": 10,
   "metadata": {},
   "outputs": [
    {
     "name": "stdout",
     "output_type": "stream",
     "text": [
      "       rating reviews\n",
      "1361        5     NaN\n",
      "3735        5     NaN\n",
      "18084       5     NaN\n",
      "18086       5     NaN\n",
      "18437       5     NaN\n",
      "18439       5     NaN\n",
      "18441       5     NaN\n",
      "22301       4     NaN\n",
      "22302       4     NaN\n",
      "22312       5     NaN\n",
      "22313       5     NaN\n",
      "22314       5     NaN\n",
      "22315       5     NaN\n",
      "26539       5     NaN\n",
      "26541       5     NaN\n",
      "26542       5     NaN\n",
      "26543       5     NaN\n",
      "27463       3     NaN\n",
      "27502       5     NaN\n",
      "29131       5     NaN\n",
      "29132       5     NaN\n",
      "31571       2     NaN\n",
      "31579       5     NaN\n",
      "32229       5     NaN\n",
      "32231       5     NaN\n",
      "36587       5     NaN\n",
      "36887       4     NaN\n",
      "36902       5     NaN\n",
      "38905       5     NaN\n",
      "55762       4     NaN\n",
      "60163       5     NaN\n",
      "60320       3     NaN\n",
      "61434       4     NaN\n",
      "61865       4     NaN\n",
      "68110       5     NaN\n",
      "70926       5     NaN\n"
     ]
    }
   ],
   "source": [
    "#To show all null values of reviews in each rows \n",
    "\n",
    "print(df[df.isna().any(axis=1)]) #OR-->print(df[df.isnull().any(axis=1)])"
   ]
  },
  {
   "cell_type": "markdown",
   "metadata": {},
   "source": [
    "# Removing the null value"
   ]
  },
  {
   "cell_type": "code",
   "execution_count": 11,
   "metadata": {},
   "outputs": [],
   "source": [
    "# df.dropna(inplace=True)\n",
    "# df"
   ]
  },
  {
   "cell_type": "code",
   "execution_count": 12,
   "metadata": {},
   "outputs": [
    {
     "data": {
      "text/html": [
       "<div>\n",
       "<style scoped>\n",
       "    .dataframe tbody tr th:only-of-type {\n",
       "        vertical-align: middle;\n",
       "    }\n",
       "\n",
       "    .dataframe tbody tr th {\n",
       "        vertical-align: top;\n",
       "    }\n",
       "\n",
       "    .dataframe thead th {\n",
       "        text-align: right;\n",
       "    }\n",
       "</style>\n",
       "<table border=\"1\" class=\"dataframe\">\n",
       "  <thead>\n",
       "    <tr style=\"text-align: right;\">\n",
       "      <th></th>\n",
       "      <th>rating</th>\n",
       "      <th>reviews</th>\n",
       "    </tr>\n",
       "  </thead>\n",
       "  <tbody>\n",
       "    <tr>\n",
       "      <th>0</th>\n",
       "      <td>5</td>\n",
       "      <td>i love this album. it's very good. more to the hip hop side than her current pop sound.. SO HYPE...</td>\n",
       "    </tr>\n",
       "    <tr>\n",
       "      <th>1</th>\n",
       "      <td>5</td>\n",
       "      <td>Good flavor. This review was collected as part of a promotion.</td>\n",
       "    </tr>\n",
       "    <tr>\n",
       "      <th>2</th>\n",
       "      <td>5</td>\n",
       "      <td>Good flavor.</td>\n",
       "    </tr>\n",
       "    <tr>\n",
       "      <th>3</th>\n",
       "      <td>1</td>\n",
       "      <td>I read through the reviews on here before looking in to buying one of the couples lubricants, an...</td>\n",
       "    </tr>\n",
       "    <tr>\n",
       "      <th>4</th>\n",
       "      <td>1</td>\n",
       "      <td>My husband bought this gel for us. The gel caused irritation and it felt like it was burning my ...</td>\n",
       "    </tr>\n",
       "    <tr>\n",
       "      <th>...</th>\n",
       "      <td>...</td>\n",
       "      <td>...</td>\n",
       "    </tr>\n",
       "    <tr>\n",
       "      <th>71039</th>\n",
       "      <td>5</td>\n",
       "      <td>I'm dealing with dry eyes and very sensitive to products. The eye clinic suggested this product ...</td>\n",
       "    </tr>\n",
       "    <tr>\n",
       "      <th>71040</th>\n",
       "      <td>5</td>\n",
       "      <td>Great stuff! Helps keep my contacts moist all day!</td>\n",
       "    </tr>\n",
       "    <tr>\n",
       "      <th>71041</th>\n",
       "      <td>5</td>\n",
       "      <td>Right price</td>\n",
       "    </tr>\n",
       "    <tr>\n",
       "      <th>71042</th>\n",
       "      <td>5</td>\n",
       "      <td>I was so pleased when this scarf arrived for multiple reasons. The print and colors are beautifu...</td>\n",
       "    </tr>\n",
       "    <tr>\n",
       "      <th>71043</th>\n",
       "      <td>5</td>\n",
       "      <td>Excellent album, makes the holidays better, gives off a nice Christmas vibe.</td>\n",
       "    </tr>\n",
       "  </tbody>\n",
       "</table>\n",
       "<p>71008 rows × 2 columns</p>\n",
       "</div>"
      ],
      "text/plain": [
       "       rating  \\\n",
       "0           5   \n",
       "1           5   \n",
       "2           5   \n",
       "3           1   \n",
       "4           1   \n",
       "...       ...   \n",
       "71039       5   \n",
       "71040       5   \n",
       "71041       5   \n",
       "71042       5   \n",
       "71043       5   \n",
       "\n",
       "                                                                                                   reviews  \n",
       "0      i love this album. it's very good. more to the hip hop side than her current pop sound.. SO HYPE...  \n",
       "1                                           Good flavor. This review was collected as part of a promotion.  \n",
       "2                                                                                             Good flavor.  \n",
       "3      I read through the reviews on here before looking in to buying one of the couples lubricants, an...  \n",
       "4      My husband bought this gel for us. The gel caused irritation and it felt like it was burning my ...  \n",
       "...                                                                                                    ...  \n",
       "71039  I'm dealing with dry eyes and very sensitive to products. The eye clinic suggested this product ...  \n",
       "71040                                                   Great stuff! Helps keep my contacts moist all day!  \n",
       "71041                                                                                          Right price  \n",
       "71042  I was so pleased when this scarf arrived for multiple reasons. The print and colors are beautifu...  \n",
       "71043                         Excellent album, makes the holidays better, gives off a nice Christmas vibe.  \n",
       "\n",
       "[71008 rows x 2 columns]"
      ]
     },
     "execution_count": 12,
     "metadata": {},
     "output_type": "execute_result"
    }
   ],
   "source": [
    "# #To remove all the rows that contains null values\n",
    "\n",
    "df.dropna(subset = [\"reviews\"], inplace=True)\n",
    "df\n"
   ]
  },
  {
   "cell_type": "code",
   "execution_count": 13,
   "metadata": {},
   "outputs": [
    {
     "data": {
      "text/plain": [
       "rating     0\n",
       "reviews    0\n",
       "dtype: int64"
      ]
     },
     "execution_count": 13,
     "metadata": {},
     "output_type": "execute_result"
    }
   ],
   "source": [
    "#Checking again, Is there is a missing value or not?\n",
    "\n",
    "df.isna().sum()"
   ]
  },
  {
   "cell_type": "code",
   "execution_count": 14,
   "metadata": {},
   "outputs": [
    {
     "data": {
      "text/plain": [
       "(71008, 2)"
      ]
     },
     "execution_count": 14,
     "metadata": {},
     "output_type": "execute_result"
    }
   ],
   "source": [
    "df.shape"
   ]
  },
  {
   "cell_type": "code",
   "execution_count": 15,
   "metadata": {},
   "outputs": [
    {
     "name": "stdout",
     "output_type": "stream",
     "text": [
      "<class 'pandas.core.frame.DataFrame'>\n",
      "Int64Index: 71008 entries, 0 to 71043\n",
      "Data columns (total 2 columns):\n",
      " #   Column   Non-Null Count  Dtype \n",
      "---  ------   --------------  ----- \n",
      " 0   rating   71008 non-null  int64 \n",
      " 1   reviews  71008 non-null  object\n",
      "dtypes: int64(1), object(1)\n",
      "memory usage: 1.6+ MB\n"
     ]
    }
   ],
   "source": [
    "df.info()"
   ]
  },
  {
   "cell_type": "markdown",
   "metadata": {},
   "source": [
    "# Visualize the count of rating after removing null rows"
   ]
  },
  {
   "cell_type": "code",
   "execution_count": 16,
   "metadata": {},
   "outputs": [
    {
     "data": {
      "text/plain": [
       "<matplotlib.axes._subplots.AxesSubplot at 0x26ac65a8fc8>"
      ]
     },
     "execution_count": 16,
     "metadata": {},
     "output_type": "execute_result"
    },
    {
     "data": {
      "image/png": "[encoded data removed]",
      "text/plain": [
       "<Figure size 432x288 with 1 Axes>"
      ]
     },
     "metadata": {},
     "output_type": "display_data"
    }
   ],
   "source": [
    "sns.set_style('whitegrid')\n",
    "sns.countplot(df['rating'])"
   ]
  },
  {
   "cell_type": "code",
   "execution_count": 17,
   "metadata": {},
   "outputs": [
    {
     "data": {
      "text/plain": [
       "<matplotlib.axes._subplots.AxesSubplot at 0x26ac6bb13c8>"
      ]
     },
     "execution_count": 17,
     "metadata": {},
     "output_type": "execute_result"
    },
    {
     "data": {
      "image/png": "[encoded data removed]",
      "text/plain": [
       "<Figure size 432x288 with 2 Axes>"
      ]
     },
     "metadata": {},
     "output_type": "display_data"
    }
   ],
   "source": [
    "sns.heatmap(df.isnull(),yticklabels=False,cbar=True,cmap='viridis')"
   ]
  },
  {
   "cell_type": "code",
   "execution_count": 18,
   "metadata": {},
   "outputs": [],
   "source": [
    "#df.describe().transpose()"
   ]
  },
  {
   "cell_type": "markdown",
   "metadata": {},
   "source": [
    "# Text Cleaning/Preprocessing"
   ]
  },
  {
   "cell_type": "code",
   "execution_count": 19,
   "metadata": {},
   "outputs": [
    {
     "data": {
      "text/html": [
       "<div>\n",
       "<style scoped>\n",
       "    .dataframe tbody tr th:only-of-type {\n",
       "        vertical-align: middle;\n",
       "    }\n",
       "\n",
       "    .dataframe tbody tr th {\n",
       "        vertical-align: top;\n",
       "    }\n",
       "\n",
       "    .dataframe thead th {\n",
       "        text-align: right;\n",
       "    }\n",
       "</style>\n",
       "<table border=\"1\" class=\"dataframe\">\n",
       "  <thead>\n",
       "    <tr style=\"text-align: right;\">\n",
       "      <th></th>\n",
       "      <th>rating</th>\n",
       "      <th>reviews</th>\n",
       "    </tr>\n",
       "  </thead>\n",
       "  <tbody>\n",
       "    <tr>\n",
       "      <th>0</th>\n",
       "      <td>5</td>\n",
       "      <td>i love this album. it's very good. more to the hip hop side than her current pop sound.. so hype...</td>\n",
       "    </tr>\n",
       "    <tr>\n",
       "      <th>1</th>\n",
       "      <td>5</td>\n",
       "      <td>good flavor. this review was collected as part of a promotion.</td>\n",
       "    </tr>\n",
       "    <tr>\n",
       "      <th>2</th>\n",
       "      <td>5</td>\n",
       "      <td>good flavor.</td>\n",
       "    </tr>\n",
       "    <tr>\n",
       "      <th>3</th>\n",
       "      <td>1</td>\n",
       "      <td>i read through the reviews on here before looking in to buying one of the couples lubricants, an...</td>\n",
       "    </tr>\n",
       "    <tr>\n",
       "      <th>4</th>\n",
       "      <td>1</td>\n",
       "      <td>my husband bought this gel for us. the gel caused irritation and it felt like it was burning my ...</td>\n",
       "    </tr>\n",
       "  </tbody>\n",
       "</table>\n",
       "</div>"
      ],
      "text/plain": [
       "   rating  \\\n",
       "0       5   \n",
       "1       5   \n",
       "2       5   \n",
       "3       1   \n",
       "4       1   \n",
       "\n",
       "                                                                                               reviews  \n",
       "0  i love this album. it's very good. more to the hip hop side than her current pop sound.. so hype...  \n",
       "1                                       good flavor. this review was collected as part of a promotion.  \n",
       "2                                                                                         good flavor.  \n",
       "3  i read through the reviews on here before looking in to buying one of the couples lubricants, an...  \n",
       "4  my husband bought this gel for us. the gel caused irritation and it felt like it was burning my ...  "
      ]
     },
     "execution_count": 19,
     "metadata": {},
     "output_type": "execute_result"
    }
   ],
   "source": [
    "df.reviews = df.reviews.astype(str) \n",
    "df.rating = df.rating.astype(int) \n",
    "df.reviews = df.reviews.apply(lambda x: x.lower())\n",
    "df.head()"
   ]
  },
  {
   "cell_type": "code",
   "execution_count": 20,
   "metadata": {},
   "outputs": [],
   "source": [
    "#First level of cleaning\n",
    "\n",
    "import re\n",
    "import string\n",
    "def text_clean_1(text):\n",
    "    text = re.sub('\\[.*?\\]', '', text)\n",
    "    text = re.sub('[%s]' % re.escape(string.punctuation), '', text)\n",
    "    text = re.sub('\\w*\\d\\w*', '', text)\n",
    "    return text\n",
    "cleaned1 = lambda x: text_clean_1(x)"
   ]
  },
  {
   "cell_type": "code",
   "execution_count": 21,
   "metadata": {},
   "outputs": [
    {
     "data": {
      "text/html": [
       "<div>\n",
       "<style scoped>\n",
       "    .dataframe tbody tr th:only-of-type {\n",
       "        vertical-align: middle;\n",
       "    }\n",
       "\n",
       "    .dataframe tbody tr th {\n",
       "        vertical-align: top;\n",
       "    }\n",
       "\n",
       "    .dataframe thead th {\n",
       "        text-align: right;\n",
       "    }\n",
       "</style>\n",
       "<table border=\"1\" class=\"dataframe\">\n",
       "  <thead>\n",
       "    <tr style=\"text-align: right;\">\n",
       "      <th></th>\n",
       "      <th>rating</th>\n",
       "      <th>reviews</th>\n",
       "      <th>cleaned_reviews</th>\n",
       "    </tr>\n",
       "  </thead>\n",
       "  <tbody>\n",
       "    <tr>\n",
       "      <th>0</th>\n",
       "      <td>5</td>\n",
       "      <td>i love this album. it's very good. more to the hip hop side than her current pop sound.. so hype...</td>\n",
       "      <td>i love this album its very good more to the hip hop side than her current pop sound so hype i li...</td>\n",
       "    </tr>\n",
       "    <tr>\n",
       "      <th>1</th>\n",
       "      <td>5</td>\n",
       "      <td>good flavor. this review was collected as part of a promotion.</td>\n",
       "      <td>good flavor this review was collected as part of a promotion</td>\n",
       "    </tr>\n",
       "    <tr>\n",
       "      <th>2</th>\n",
       "      <td>5</td>\n",
       "      <td>good flavor.</td>\n",
       "      <td>good flavor</td>\n",
       "    </tr>\n",
       "    <tr>\n",
       "      <th>3</th>\n",
       "      <td>1</td>\n",
       "      <td>i read through the reviews on here before looking in to buying one of the couples lubricants, an...</td>\n",
       "      <td>i read through the reviews on here before looking in to buying one of the couples lubricants and...</td>\n",
       "    </tr>\n",
       "    <tr>\n",
       "      <th>4</th>\n",
       "      <td>1</td>\n",
       "      <td>my husband bought this gel for us. the gel caused irritation and it felt like it was burning my ...</td>\n",
       "      <td>my husband bought this gel for us the gel caused irritation and it felt like it was burning my s...</td>\n",
       "    </tr>\n",
       "  </tbody>\n",
       "</table>\n",
       "</div>"
      ],
      "text/plain": [
       "   rating  \\\n",
       "0       5   \n",
       "1       5   \n",
       "2       5   \n",
       "3       1   \n",
       "4       1   \n",
       "\n",
       "                                                                                               reviews  \\\n",
       "0  i love this album. it's very good. more to the hip hop side than her current pop sound.. so hype...   \n",
       "1                                       good flavor. this review was collected as part of a promotion.   \n",
       "2                                                                                         good flavor.   \n",
       "3  i read through the reviews on here before looking in to buying one of the couples lubricants, an...   \n",
       "4  my husband bought this gel for us. the gel caused irritation and it felt like it was burning my ...   \n",
       "\n",
       "                                                                                       cleaned_reviews  \n",
       "0  i love this album its very good more to the hip hop side than her current pop sound so hype i li...  \n",
       "1                                         good flavor this review was collected as part of a promotion  \n",
       "2                                                                                          good flavor  \n",
       "3  i read through the reviews on here before looking in to buying one of the couples lubricants and...  \n",
       "4  my husband bought this gel for us the gel caused irritation and it felt like it was burning my s...  "
      ]
     },
     "execution_count": 21,
     "metadata": {},
     "output_type": "execute_result"
    }
   ],
   "source": [
    "df['cleaned_reviews'] = df['reviews'].apply(cleaned1)\n",
    "df.head()"
   ]
  },
  {
   "cell_type": "code",
   "execution_count": 22,
   "metadata": {},
   "outputs": [],
   "source": [
    "#Second level of cleaning\n",
    "\n",
    "def text_clean_2(text):\n",
    "    text = re.sub('[''\"\"..]', '', text)\n",
    "    text = re.sub('\\n', '', text)\n",
    "    return text\n",
    "cleaned2 = lambda x: text_clean_2(x)"
   ]
  },
  {
   "cell_type": "code",
   "execution_count": 23,
   "metadata": {},
   "outputs": [
    {
     "data": {
      "text/html": [
       "<div>\n",
       "<style scoped>\n",
       "    .dataframe tbody tr th:only-of-type {\n",
       "        vertical-align: middle;\n",
       "    }\n",
       "\n",
       "    .dataframe tbody tr th {\n",
       "        vertical-align: top;\n",
       "    }\n",
       "\n",
       "    .dataframe thead th {\n",
       "        text-align: right;\n",
       "    }\n",
       "</style>\n",
       "<table border=\"1\" class=\"dataframe\">\n",
       "  <thead>\n",
       "    <tr style=\"text-align: right;\">\n",
       "      <th></th>\n",
       "      <th>rating</th>\n",
       "      <th>reviews</th>\n",
       "      <th>cleaned_reviews</th>\n",
       "      <th>cleaned_reviews_new</th>\n",
       "    </tr>\n",
       "  </thead>\n",
       "  <tbody>\n",
       "    <tr>\n",
       "      <th>0</th>\n",
       "      <td>5</td>\n",
       "      <td>i love this album. it's very good. more to the hip hop side than her current pop sound.. so hype...</td>\n",
       "      <td>i love this album its very good more to the hip hop side than her current pop sound so hype i li...</td>\n",
       "      <td>i love this album its very good more to the hip hop side than her current pop sound so hype i li...</td>\n",
       "    </tr>\n",
       "    <tr>\n",
       "      <th>1</th>\n",
       "      <td>5</td>\n",
       "      <td>good flavor. this review was collected as part of a promotion.</td>\n",
       "      <td>good flavor this review was collected as part of a promotion</td>\n",
       "      <td>good flavor this review was collected as part of a promotion</td>\n",
       "    </tr>\n",
       "    <tr>\n",
       "      <th>2</th>\n",
       "      <td>5</td>\n",
       "      <td>good flavor.</td>\n",
       "      <td>good flavor</td>\n",
       "      <td>good flavor</td>\n",
       "    </tr>\n",
       "    <tr>\n",
       "      <th>3</th>\n",
       "      <td>1</td>\n",
       "      <td>i read through the reviews on here before looking in to buying one of the couples lubricants, an...</td>\n",
       "      <td>i read through the reviews on here before looking in to buying one of the couples lubricants and...</td>\n",
       "      <td>i read through the reviews on here before looking in to buying one of the couples lubricants and...</td>\n",
       "    </tr>\n",
       "    <tr>\n",
       "      <th>4</th>\n",
       "      <td>1</td>\n",
       "      <td>my husband bought this gel for us. the gel caused irritation and it felt like it was burning my ...</td>\n",
       "      <td>my husband bought this gel for us the gel caused irritation and it felt like it was burning my s...</td>\n",
       "      <td>my husband bought this gel for us the gel caused irritation and it felt like it was burning my s...</td>\n",
       "    </tr>\n",
       "  </tbody>\n",
       "</table>\n",
       "</div>"
      ],
      "text/plain": [
       "   rating  \\\n",
       "0       5   \n",
       "1       5   \n",
       "2       5   \n",
       "3       1   \n",
       "4       1   \n",
       "\n",
       "                                                                                               reviews  \\\n",
       "0  i love this album. it's very good. more to the hip hop side than her current pop sound.. so hype...   \n",
       "1                                       good flavor. this review was collected as part of a promotion.   \n",
       "2                                                                                         good flavor.   \n",
       "3  i read through the reviews on here before looking in to buying one of the couples lubricants, an...   \n",
       "4  my husband bought this gel for us. the gel caused irritation and it felt like it was burning my ...   \n",
       "\n",
       "                                                                                       cleaned_reviews  \\\n",
       "0  i love this album its very good more to the hip hop side than her current pop sound so hype i li...   \n",
       "1                                         good flavor this review was collected as part of a promotion   \n",
       "2                                                                                          good flavor   \n",
       "3  i read through the reviews on here before looking in to buying one of the couples lubricants and...   \n",
       "4  my husband bought this gel for us the gel caused irritation and it felt like it was burning my s...   \n",
       "\n",
       "                                                                                   cleaned_reviews_new  \n",
       "0  i love this album its very good more to the hip hop side than her current pop sound so hype i li...  \n",
       "1                                         good flavor this review was collected as part of a promotion  \n",
       "2                                                                                          good flavor  \n",
       "3  i read through the reviews on here before looking in to buying one of the couples lubricants and...  \n",
       "4  my husband bought this gel for us the gel caused irritation and it felt like it was burning my s...  "
      ]
     },
     "execution_count": 23,
     "metadata": {},
     "output_type": "execute_result"
    }
   ],
   "source": [
    "df['cleaned_reviews_new'] = df['cleaned_reviews'].apply(cleaned2)\n",
    "df.head()\n"
   ]
  },
  {
   "cell_type": "code",
   "execution_count": 24,
   "metadata": {},
   "outputs": [
    {
     "data": {
      "text/plain": [
       "rating                 0\n",
       "reviews                0\n",
       "cleaned_reviews        0\n",
       "cleaned_reviews_new    0\n",
       "dtype: int64"
      ]
     },
     "execution_count": 24,
     "metadata": {},
     "output_type": "execute_result"
    }
   ],
   "source": [
    "df.isna().sum()"
   ]
  },
  {
   "cell_type": "code",
   "execution_count": 25,
   "metadata": {},
   "outputs": [
    {
     "data": {
      "text/plain": [
       "(71008, 4)"
      ]
     },
     "execution_count": 25,
     "metadata": {},
     "output_type": "execute_result"
    }
   ],
   "source": [
    "df.shape"
   ]
  },
  {
   "cell_type": "markdown",
   "metadata": {},
   "source": [
    "# Train Test split"
   ]
  },
  {
   "cell_type": "code",
   "execution_count": 26,
   "metadata": {},
   "outputs": [],
   "source": [
    "# Split the dataset into features data and target data\n",
    "\n",
    "y = df.rating\n",
    "X = df.cleaned_reviews_new"
   ]
  },
  {
   "cell_type": "code",
   "execution_count": 27,
   "metadata": {},
   "outputs": [],
   "source": [
    "#Split the dataset again, into 70% training dataset and 30% twsting dataset\n",
    "\n",
    "from sklearn.model_selection import train_test_split\n",
    "X_train, X_test, y_train, y_test = train_test_split(X,y, test_size=0.30, random_state=1)"
   ]
  },
  {
   "cell_type": "code",
   "execution_count": 28,
   "metadata": {},
   "outputs": [
    {
     "name": "stdout",
     "output_type": "stream",
     "text": [
      "X_train : 49705\n",
      "X_test : 21303\n",
      "y_train : 49705\n",
      "y_test : 21303\n"
     ]
    }
   ],
   "source": [
    "print('X_train :', (len(X_train)))\n",
    "print('X_test :', (len(X_test)))\n",
    "print('y_train :', (len(y_train)))\n",
    "print('y_test :', (len(y_test)))"
   ]
  },
  {
   "cell_type": "markdown",
   "metadata": {},
   "source": [
    "# Implementing the Logistic Regression Algorithm "
   ]
  },
  {
   "cell_type": "code",
   "execution_count": 40,
   "metadata": {},
   "outputs": [],
   "source": [
    "from sklearn.feature_extraction.text import TfidfVectorizer\n",
    "Tfid_fVectorizer = TfidfVectorizer(lowercase = True)\n",
    "\n",
    "from sklearn.linear_model import LogisticRegression\n",
    "\n",
    "Logistic_Regression = LogisticRegression(solver = \"lbfgs\")\n"
   ]
  },
  {
   "cell_type": "code",
   "execution_count": 41,
   "metadata": {},
   "outputs": [],
   "source": [
    "from sklearn.pipeline import Pipeline\n",
    "\n",
    "P = Pipeline([('vectorizer',Tfid_fVectorizer),('classifier',Logistic_Regression)])\n",
    "P.fit(X_train,y_train)\n",
    "\n",
    "Prediction = P.predict(X_test)\n",
    "\n",
    "#Pfit.(self, X, y, **fit_params)"
   ]
  },
  {
   "cell_type": "code",
   "execution_count": 42,
   "metadata": {},
   "outputs": [
    {
     "data": {
      "text/plain": [
       "array([[  749,   128,    76,    40,    40],\n",
       "       [   27,    37,    20,    12,     9],\n",
       "       [   37,    80,   264,   120,    49],\n",
       "       [   40,    96,   455,  1048,   734],\n",
       "       [  306,   190,   519,  3124, 13103]], dtype=int64)"
      ]
     },
     "execution_count": 42,
     "metadata": {},
     "output_type": "execute_result"
    }
   ],
   "source": [
    "from sklearn.metrics import confusion_matrix\n",
    "confusion_matrix(Prediction, y_test)"
   ]
  },
  {
   "cell_type": "code",
   "execution_count": 43,
   "metadata": {},
   "outputs": [
    {
     "name": "stdout",
     "output_type": "stream",
     "text": [
      "Model Accuracy on test dataset:  0.7135614702154626\n",
      "Model precision on test dataset:  0.6654514666680915\n",
      "Model recall on test dataset:  0.7135614702154626\n"
     ]
    }
   ],
   "source": [
    "from sklearn.metrics import accuracy_score, precision_score, recall_score\n",
    "\n",
    "accuracy_score = accuracy_score(y_test, Prediction)\n",
    "precision_score = precision_score(y_test, Prediction, average='weighted')\n",
    "recall_score = recall_score(y_test, Prediction, average='weighted')\n",
    "\n",
    "print(\"Model Accuracy on test dataset: \", accuracy_score)\n",
    "print(\"Model precision on test dataset: \", precision_score)\n",
    "print(\"Model recall on test dataset: \", recall_score)"
   ]
  },
  {
   "cell_type": "markdown",
   "metadata": {},
   "source": [
    "# Check for real world input"
   ]
  },
  {
   "cell_type": "code",
   "execution_count": 50,
   "metadata": {},
   "outputs": [
    {
     "name": "stdout",
     "output_type": "stream",
     "text": [
      "[5]\n"
     ]
    }
   ],
   "source": [
    "new_review = ['This product is good']\n",
    "result = P.predict(new_review)\n",
    "print(result)"
   ]
  },
  {
   "cell_type": "code",
   "execution_count": null,
   "metadata": {},
   "outputs": [],
   "source": []
  },
  {
   "cell_type": "markdown",
   "metadata": {},
   "source": [
    "# Implementing the Naive Bayes model "
   ]
  },
  {
   "cell_type": "code",
   "execution_count": 34,
   "metadata": {},
   "outputs": [],
   "source": [
    "from sklearn.feature_extraction.text import TfidfVectorizer\n",
    "Tfid_fVectorizer = TfidfVectorizer(lowercase = True)\n",
    "\n",
    "from sklearn.naive_bayes import MultinomialNB\n",
    "Multi_nomialNB = MultinomialNB()\n"
   ]
  },
  {
   "cell_type": "code",
   "execution_count": 35,
   "metadata": {},
   "outputs": [],
   "source": [
    "from sklearn.pipeline import Pipeline\n",
    "\n",
    "P1 = Pipeline([('vectorizer',Tfid_fVectorizer),('classifier', Multi_nomialNB)])\n",
    "P1.fit(X_train,y_train)\n",
    "\n",
    "Predictions = P1.predict(X_test)\n",
    "\n",
    "#Pfit.(self, X, y, **fit_params)"
   ]
  },
  {
   "cell_type": "code",
   "execution_count": 36,
   "metadata": {},
   "outputs": [
    {
     "data": {
      "text/plain": [
       "array([[   44,     4,     0,     0,     0],\n",
       "       [    0,     0,     0,     0,     0],\n",
       "       [    0,     0,     0,     0,     0],\n",
       "       [    2,     9,    45,    55,    37],\n",
       "       [ 1113,   518,  1289,  4289, 13898]], dtype=int64)"
      ]
     },
     "execution_count": 36,
     "metadata": {},
     "output_type": "execute_result"
    }
   ],
   "source": [
    "from sklearn.metrics import confusion_matrix\n",
    "confusion_matrix(Predictions, y_test)"
   ]
  },
  {
   "cell_type": "code",
   "execution_count": 37,
   "metadata": {},
   "outputs": [
    {
     "name": "stdout",
     "output_type": "stream",
     "text": [
      "Model Accuracy on test dataset:  0.6570436088813782\n",
      "Model precision on test dataset:  0.5563678834850123\n",
      "Model recall on test dataset:  0.6570436088813782\n"
     ]
    }
   ],
   "source": [
    "from sklearn.metrics import accuracy_score, precision_score, recall_score\n",
    "\n",
    "accuracy_score = accuracy_score(y_test, Predictions)\n",
    "precision_score = precision_score(y_test, Predictions, average='weighted')\n",
    "recall_score = recall_score(y_test, Predictions, average='weighted')\n",
    "\n",
    "print(\"Model Accuracy on test dataset: \", accuracy_score)\n",
    "print(\"Model precision on test dataset: \", precision_score)\n",
    "print(\"Model recall on test dataset: \", recall_score)"
   ]
  },
  {
   "cell_type": "markdown",
   "metadata": {},
   "source": [
    "# Check for real world input"
   ]
  },
  {
   "cell_type": "code",
   "execution_count": 38,
   "metadata": {},
   "outputs": [
    {
     "name": "stdout",
     "output_type": "stream",
     "text": [
      "[5]\n"
     ]
    }
   ],
   "source": [
    "example = ['This website is fault']\n",
    "result = P1.predict(example)\n",
    "print(result)"
   ]
  },
  {
   "cell_type": "code",
   "execution_count": null,
   "metadata": {},
   "outputs": [],
   "source": []
  }
 ],
 "metadata": {
  "kernelspec": {
   "display_name": "Python 3",
   "language": "python",
   "name": "python3"
  },
  "language_info": {
   "codemirror_mode": {
    "name": "ipython",
    "version": 3
   },
   "file_extension": ".py",
   "mimetype": "text/x-python",
   "name": "python",
   "nbconvert_exporter": "python",
   "pygments_lexer": "ipython3",
   "version": "3.7.6"
  }
 },
 "nbformat": 4,
 "nbformat_minor": 4
}
